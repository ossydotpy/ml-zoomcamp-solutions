{
 "cells": [
  {
   "cell_type": "markdown",
   "id": "2993b1ec",
   "metadata": {},
   "source": [
    "## Question 1"
   ]
  },
  {
   "cell_type": "code",
   "execution_count": 1,
   "id": "c38d9b19",
   "metadata": {},
   "outputs": [],
   "source": [
    "import pandas as pd\n",
    "import numpy as np"
   ]
  },
  {
   "cell_type": "code",
   "execution_count": 2,
   "id": "40713b02",
   "metadata": {},
   "outputs": [
    {
     "name": "stdout",
     "output_type": "stream",
     "text": [
      "pandas version 2.0.3\n"
     ]
    }
   ],
   "source": [
    "print('pandas version', pd.__version__)"
   ]
  },
  {
   "cell_type": "code",
   "execution_count": 3,
   "id": "10924fd4",
   "metadata": {},
   "outputs": [
    {
     "data": {
      "text/html": [
       "<div>\n",
       "<style scoped>\n",
       "    .dataframe tbody tr th:only-of-type {\n",
       "        vertical-align: middle;\n",
       "    }\n",
       "\n",
       "    .dataframe tbody tr th {\n",
       "        vertical-align: top;\n",
       "    }\n",
       "\n",
       "    .dataframe thead th {\n",
       "        text-align: right;\n",
       "    }\n",
       "</style>\n",
       "<table border=\"1\" class=\"dataframe\">\n",
       "  <thead>\n",
       "    <tr style=\"text-align: right;\">\n",
       "      <th></th>\n",
       "      <th>longitude</th>\n",
       "      <th>latitude</th>\n",
       "      <th>housing_median_age</th>\n",
       "      <th>total_rooms</th>\n",
       "      <th>total_bedrooms</th>\n",
       "      <th>population</th>\n",
       "      <th>households</th>\n",
       "      <th>median_income</th>\n",
       "      <th>median_house_value</th>\n",
       "      <th>ocean_proximity</th>\n",
       "    </tr>\n",
       "  </thead>\n",
       "  <tbody>\n",
       "    <tr>\n",
       "      <th>0</th>\n",
       "      <td>-122.23</td>\n",
       "      <td>37.88</td>\n",
       "      <td>41.0</td>\n",
       "      <td>880.0</td>\n",
       "      <td>129.0</td>\n",
       "      <td>322.0</td>\n",
       "      <td>126.0</td>\n",
       "      <td>8.3252</td>\n",
       "      <td>452600.0</td>\n",
       "      <td>NEAR BAY</td>\n",
       "    </tr>\n",
       "    <tr>\n",
       "      <th>1</th>\n",
       "      <td>-122.22</td>\n",
       "      <td>37.86</td>\n",
       "      <td>21.0</td>\n",
       "      <td>7099.0</td>\n",
       "      <td>1106.0</td>\n",
       "      <td>2401.0</td>\n",
       "      <td>1138.0</td>\n",
       "      <td>8.3014</td>\n",
       "      <td>358500.0</td>\n",
       "      <td>NEAR BAY</td>\n",
       "    </tr>\n",
       "    <tr>\n",
       "      <th>2</th>\n",
       "      <td>-122.24</td>\n",
       "      <td>37.85</td>\n",
       "      <td>52.0</td>\n",
       "      <td>1467.0</td>\n",
       "      <td>190.0</td>\n",
       "      <td>496.0</td>\n",
       "      <td>177.0</td>\n",
       "      <td>7.2574</td>\n",
       "      <td>352100.0</td>\n",
       "      <td>NEAR BAY</td>\n",
       "    </tr>\n",
       "    <tr>\n",
       "      <th>3</th>\n",
       "      <td>-122.25</td>\n",
       "      <td>37.85</td>\n",
       "      <td>52.0</td>\n",
       "      <td>1274.0</td>\n",
       "      <td>235.0</td>\n",
       "      <td>558.0</td>\n",
       "      <td>219.0</td>\n",
       "      <td>5.6431</td>\n",
       "      <td>341300.0</td>\n",
       "      <td>NEAR BAY</td>\n",
       "    </tr>\n",
       "    <tr>\n",
       "      <th>4</th>\n",
       "      <td>-122.25</td>\n",
       "      <td>37.85</td>\n",
       "      <td>52.0</td>\n",
       "      <td>1627.0</td>\n",
       "      <td>280.0</td>\n",
       "      <td>565.0</td>\n",
       "      <td>259.0</td>\n",
       "      <td>3.8462</td>\n",
       "      <td>342200.0</td>\n",
       "      <td>NEAR BAY</td>\n",
       "    </tr>\n",
       "  </tbody>\n",
       "</table>\n",
       "</div>"
      ],
      "text/plain": [
       "   longitude  latitude  housing_median_age  total_rooms  total_bedrooms  \\\n",
       "0    -122.23     37.88                41.0        880.0           129.0   \n",
       "1    -122.22     37.86                21.0       7099.0          1106.0   \n",
       "2    -122.24     37.85                52.0       1467.0           190.0   \n",
       "3    -122.25     37.85                52.0       1274.0           235.0   \n",
       "4    -122.25     37.85                52.0       1627.0           280.0   \n",
       "\n",
       "   population  households  median_income  median_house_value ocean_proximity  \n",
       "0       322.0       126.0         8.3252            452600.0        NEAR BAY  \n",
       "1      2401.0      1138.0         8.3014            358500.0        NEAR BAY  \n",
       "2       496.0       177.0         7.2574            352100.0        NEAR BAY  \n",
       "3       558.0       219.0         5.6431            341300.0        NEAR BAY  \n",
       "4       565.0       259.0         3.8462            342200.0        NEAR BAY  "
      ]
     },
     "execution_count": 3,
     "metadata": {},
     "output_type": "execute_result"
    }
   ],
   "source": [
    "data = pd.read_csv('housing.csv')\n",
    "data.head()"
   ]
  },
  {
   "cell_type": "markdown",
   "id": "a7210096",
   "metadata": {},
   "source": [
    "## Question 2\n",
    "How many columns are in the dataset?\n",
    "\n",
    "    10\n",
    "    6560\n",
    "    10989\n",
    "    20640\n"
   ]
  },
  {
   "cell_type": "code",
   "execution_count": 4,
   "id": "cdae4c19",
   "metadata": {},
   "outputs": [
    {
     "data": {
      "text/plain": [
       "10"
      ]
     },
     "execution_count": 4,
     "metadata": {},
     "output_type": "execute_result"
    }
   ],
   "source": [
    "len(data.columns)"
   ]
  },
  {
   "cell_type": "markdown",
   "id": "ecb7ce8b",
   "metadata": {},
   "source": [
    "## Question 3\n",
    "\n",
    "Which columns in the dataset have missing values?\n",
    "\n",
    "    total_rooms\n",
    "    total_bedrooms\n",
    "    both of the above\n",
    "    no empty columns in the dataset\n",
    "\n"
   ]
  },
  {
   "cell_type": "code",
   "execution_count": 5,
   "id": "84a4f9d9",
   "metadata": {},
   "outputs": [
    {
     "data": {
      "text/plain": [
       "longitude               0\n",
       "latitude                0\n",
       "housing_median_age      0\n",
       "total_rooms             0\n",
       "total_bedrooms        207\n",
       "population              0\n",
       "households              0\n",
       "median_income           0\n",
       "median_house_value      0\n",
       "ocean_proximity         0\n",
       "dtype: int64"
      ]
     },
     "execution_count": 5,
     "metadata": {},
     "output_type": "execute_result"
    }
   ],
   "source": [
    "data.isna().sum()"
   ]
  },
  {
   "cell_type": "markdown",
   "id": "ec98a632",
   "metadata": {},
   "source": [
    "answer: total_bedrooms"
   ]
  },
  {
   "cell_type": "markdown",
   "id": "7369d291",
   "metadata": {},
   "source": [
    "## Question 4\n",
    "\n",
    "How many unique values does the ocean_proximity column have?\n",
    "\n",
    "    3\n",
    "    5\n",
    "    7\n",
    "    9\n"
   ]
  },
  {
   "cell_type": "code",
   "execution_count": 6,
   "id": "615df6cf",
   "metadata": {},
   "outputs": [
    {
     "data": {
      "text/plain": [
       "5"
      ]
     },
     "execution_count": 6,
     "metadata": {},
     "output_type": "execute_result"
    }
   ],
   "source": [
    "data['ocean_proximity'].nunique()"
   ]
  },
  {
   "cell_type": "markdown",
   "id": "d9dee02a",
   "metadata": {},
   "source": [
    "answer: 5"
   ]
  },
  {
   "cell_type": "markdown",
   "id": "4da9d36f",
   "metadata": {},
   "source": [
    "## Question 5\n",
    "\n",
    "What's the average value of the median_house_value for the houses located near the bay?\n",
    "\n",
    "    49433\n",
    "    124805\n",
    "    259212\n",
    "    380440\n"
   ]
  },
  {
   "cell_type": "code",
   "execution_count": 7,
   "id": "65e72ec1",
   "metadata": {},
   "outputs": [
    {
     "data": {
      "text/plain": [
       "259212.31179039303"
      ]
     },
     "execution_count": 7,
     "metadata": {},
     "output_type": "execute_result"
    }
   ],
   "source": [
    "data[data['ocean_proximity'] == 'NEAR BAY'].median_house_value.mean()"
   ]
  },
  {
   "cell_type": "markdown",
   "id": "68678821",
   "metadata": {},
   "source": [
    "asnwer: 259212"
   ]
  },
  {
   "cell_type": "markdown",
   "id": "f5192f3e",
   "metadata": {},
   "source": [
    "## Question 6\n",
    "\n",
    "    Calculate the average of total_bedrooms column in the dataset.\n",
    "    Use the fillna method to fill the missing values in total_bedrooms with the mean value from the previous step.\n",
    "    Now, calculate the average of total_bedrooms again.\n",
    "    Has it changed?\n",
    "\n",
    "Has it changed?\n",
    "\n",
    "    Hint: take into account only 3 digits after the decimal point.\n",
    "\n",
    "    Yes\n",
    "    No\n"
   ]
  },
  {
   "cell_type": "code",
   "execution_count": 8,
   "id": "c9a32414",
   "metadata": {},
   "outputs": [
    {
     "name": "stdout",
     "output_type": "stream",
     "text": [
      "before: 537.8705525375618\n",
      "after: 537.8705525375617\n"
     ]
    }
   ],
   "source": [
    "total_bedrooms_mean = data['total_bedrooms'].mean()\n",
    "print('before:', total_bedrooms_mean)\n",
    "\n",
    "data['total_bedrooms'] = data['total_bedrooms'].fillna(total_bedrooms_mean)\n",
    "print('after:', data['total_bedrooms'].mean())\n"
   ]
  },
  {
   "cell_type": "markdown",
   "id": "6937a7fe",
   "metadata": {},
   "source": [
    "answer: No"
   ]
  },
  {
   "cell_type": "markdown",
   "id": "451539dc",
   "metadata": {},
   "source": [
    "## Question 7\n",
    "\n",
    "    Select all the options located on islands.\n",
    "    Select only columns housing_median_age, total_rooms, total_bedrooms.\n",
    "    Get the underlying NumPy array. Let's call it X.\n",
    "    Compute matrix-matrix multiplication between the transpose of X and X. To get the transpose, use X.T. Let's call the result XTX.\n",
    "    Compute the inverse of XTX.\n",
    "    Create an array y with values [950, 1300, 800, 1000, 1300].\n",
    "    Multiply the inverse of XTX with the transpose of X, and then multiply the result by y. Call the result w.\n",
    "    What's the value of the last element of w?\n",
    "\n",
    "    Note: You just implemented linear regression. We'll talk about it in the next lesson.\n",
    "\n",
    "    -1.4812\n",
    "    0.001\n",
    "    5.6992\n",
    "    23.1233\n"
   ]
  },
  {
   "cell_type": "code",
   "execution_count": 9,
   "id": "26867856",
   "metadata": {},
   "outputs": [],
   "source": [
    "df = data[data['ocean_proximity'] == 'ISLAND']\n",
    "cols =  ['housing_median_age', 'total_rooms', 'total_bedrooms']\n",
    "\n",
    "df = df[cols]"
   ]
  },
  {
   "cell_type": "code",
   "execution_count": 10,
   "id": "a201dfff",
   "metadata": {},
   "outputs": [
    {
     "data": {
      "text/plain": [
       "array([23.12330961, -1.48124183,  5.69922946])"
      ]
     },
     "execution_count": 10,
     "metadata": {},
     "output_type": "execute_result"
    }
   ],
   "source": [
    "X = np.array(df)\n",
    "\n",
    "XTX = np.dot(X.T, X)\n",
    "XTX_inverse = np.linalg.inv(XTX)\n",
    "y = [950, 1300, 800, 1000, 1300]\n",
    "\n",
    "w = np.dot(XTX_inverse, X.T).dot(y)\n",
    "w"
   ]
  },
  {
   "cell_type": "markdown",
   "id": "4f35c83a",
   "metadata": {},
   "source": [
    "answer: 5.6992"
   ]
  },
  {
   "cell_type": "code",
   "execution_count": null,
   "id": "bf6d13c6",
   "metadata": {},
   "outputs": [],
   "source": []
  }
 ],
 "metadata": {
  "kernelspec": {
   "display_name": "Python 3 (ipykernel)",
   "language": "python",
   "name": "python3"
  },
  "language_info": {
   "codemirror_mode": {
    "name": "ipython",
    "version": 3
   },
   "file_extension": ".py",
   "mimetype": "text/x-python",
   "name": "python",
   "nbconvert_exporter": "python",
   "pygments_lexer": "ipython3",
   "version": "3.10.12"
  }
 },
 "nbformat": 4,
 "nbformat_minor": 5
}
