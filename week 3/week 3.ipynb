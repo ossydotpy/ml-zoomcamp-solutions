{
 "cells": [
  {
   "cell_type": "code",
   "execution_count": 1,
   "id": "2937830d",
   "metadata": {},
   "outputs": [],
   "source": [
    "import numpy as np\n",
    "import pandas as pd\n",
    "import seaborn as sns\n",
    "import matplotlib.pyplot as plt\n",
    "\n",
    "from sklearn.linear_model import Ridge\n",
    "from sklearn.linear_model import LogisticRegression\n",
    "from sklearn.model_selection import train_test_split\n",
    "from sklearn.feature_extraction import DictVectorizer\n",
    "from sklearn.preprocessing import MinMaxScaler, OneHotEncoder\n",
    "from sklearn.metrics import accuracy_score, mean_squared_error, mutual_info_score"
   ]
  },
  {
   "cell_type": "code",
   "execution_count": 2,
   "id": "2a42ac1c",
   "metadata": {},
   "outputs": [
    {
     "data": {
      "text/html": [
       "<div>\n",
       "<style scoped>\n",
       "    .dataframe tbody tr th:only-of-type {\n",
       "        vertical-align: middle;\n",
       "    }\n",
       "\n",
       "    .dataframe tbody tr th {\n",
       "        vertical-align: top;\n",
       "    }\n",
       "\n",
       "    .dataframe thead th {\n",
       "        text-align: right;\n",
       "    }\n",
       "</style>\n",
       "<table border=\"1\" class=\"dataframe\">\n",
       "  <thead>\n",
       "    <tr style=\"text-align: right;\">\n",
       "      <th></th>\n",
       "      <th>Make</th>\n",
       "      <th>Model</th>\n",
       "      <th>Year</th>\n",
       "      <th>Engine Fuel Type</th>\n",
       "      <th>Engine HP</th>\n",
       "      <th>Engine Cylinders</th>\n",
       "      <th>Transmission Type</th>\n",
       "      <th>Driven_Wheels</th>\n",
       "      <th>Number of Doors</th>\n",
       "      <th>Market Category</th>\n",
       "      <th>Vehicle Size</th>\n",
       "      <th>Vehicle Style</th>\n",
       "      <th>highway MPG</th>\n",
       "      <th>city mpg</th>\n",
       "      <th>Popularity</th>\n",
       "      <th>MSRP</th>\n",
       "    </tr>\n",
       "  </thead>\n",
       "  <tbody>\n",
       "    <tr>\n",
       "      <th>0</th>\n",
       "      <td>BMW</td>\n",
       "      <td>1 Series M</td>\n",
       "      <td>2011</td>\n",
       "      <td>premium unleaded (required)</td>\n",
       "      <td>335.0</td>\n",
       "      <td>6.0</td>\n",
       "      <td>MANUAL</td>\n",
       "      <td>rear wheel drive</td>\n",
       "      <td>2.0</td>\n",
       "      <td>Factory Tuner,Luxury,High-Performance</td>\n",
       "      <td>Compact</td>\n",
       "      <td>Coupe</td>\n",
       "      <td>26</td>\n",
       "      <td>19</td>\n",
       "      <td>3916</td>\n",
       "      <td>46135</td>\n",
       "    </tr>\n",
       "    <tr>\n",
       "      <th>1</th>\n",
       "      <td>BMW</td>\n",
       "      <td>1 Series</td>\n",
       "      <td>2011</td>\n",
       "      <td>premium unleaded (required)</td>\n",
       "      <td>300.0</td>\n",
       "      <td>6.0</td>\n",
       "      <td>MANUAL</td>\n",
       "      <td>rear wheel drive</td>\n",
       "      <td>2.0</td>\n",
       "      <td>Luxury,Performance</td>\n",
       "      <td>Compact</td>\n",
       "      <td>Convertible</td>\n",
       "      <td>28</td>\n",
       "      <td>19</td>\n",
       "      <td>3916</td>\n",
       "      <td>40650</td>\n",
       "    </tr>\n",
       "    <tr>\n",
       "      <th>2</th>\n",
       "      <td>BMW</td>\n",
       "      <td>1 Series</td>\n",
       "      <td>2011</td>\n",
       "      <td>premium unleaded (required)</td>\n",
       "      <td>300.0</td>\n",
       "      <td>6.0</td>\n",
       "      <td>MANUAL</td>\n",
       "      <td>rear wheel drive</td>\n",
       "      <td>2.0</td>\n",
       "      <td>Luxury,High-Performance</td>\n",
       "      <td>Compact</td>\n",
       "      <td>Coupe</td>\n",
       "      <td>28</td>\n",
       "      <td>20</td>\n",
       "      <td>3916</td>\n",
       "      <td>36350</td>\n",
       "    </tr>\n",
       "    <tr>\n",
       "      <th>3</th>\n",
       "      <td>BMW</td>\n",
       "      <td>1 Series</td>\n",
       "      <td>2011</td>\n",
       "      <td>premium unleaded (required)</td>\n",
       "      <td>230.0</td>\n",
       "      <td>6.0</td>\n",
       "      <td>MANUAL</td>\n",
       "      <td>rear wheel drive</td>\n",
       "      <td>2.0</td>\n",
       "      <td>Luxury,Performance</td>\n",
       "      <td>Compact</td>\n",
       "      <td>Coupe</td>\n",
       "      <td>28</td>\n",
       "      <td>18</td>\n",
       "      <td>3916</td>\n",
       "      <td>29450</td>\n",
       "    </tr>\n",
       "    <tr>\n",
       "      <th>4</th>\n",
       "      <td>BMW</td>\n",
       "      <td>1 Series</td>\n",
       "      <td>2011</td>\n",
       "      <td>premium unleaded (required)</td>\n",
       "      <td>230.0</td>\n",
       "      <td>6.0</td>\n",
       "      <td>MANUAL</td>\n",
       "      <td>rear wheel drive</td>\n",
       "      <td>2.0</td>\n",
       "      <td>Luxury</td>\n",
       "      <td>Compact</td>\n",
       "      <td>Convertible</td>\n",
       "      <td>28</td>\n",
       "      <td>18</td>\n",
       "      <td>3916</td>\n",
       "      <td>34500</td>\n",
       "    </tr>\n",
       "  </tbody>\n",
       "</table>\n",
       "</div>"
      ],
      "text/plain": [
       "  Make       Model  Year             Engine Fuel Type  Engine HP  \\\n",
       "0  BMW  1 Series M  2011  premium unleaded (required)      335.0   \n",
       "1  BMW    1 Series  2011  premium unleaded (required)      300.0   \n",
       "2  BMW    1 Series  2011  premium unleaded (required)      300.0   \n",
       "3  BMW    1 Series  2011  premium unleaded (required)      230.0   \n",
       "4  BMW    1 Series  2011  premium unleaded (required)      230.0   \n",
       "\n",
       "   Engine Cylinders Transmission Type     Driven_Wheels  Number of Doors  \\\n",
       "0               6.0            MANUAL  rear wheel drive              2.0   \n",
       "1               6.0            MANUAL  rear wheel drive              2.0   \n",
       "2               6.0            MANUAL  rear wheel drive              2.0   \n",
       "3               6.0            MANUAL  rear wheel drive              2.0   \n",
       "4               6.0            MANUAL  rear wheel drive              2.0   \n",
       "\n",
       "                         Market Category Vehicle Size Vehicle Style  \\\n",
       "0  Factory Tuner,Luxury,High-Performance      Compact         Coupe   \n",
       "1                     Luxury,Performance      Compact   Convertible   \n",
       "2                Luxury,High-Performance      Compact         Coupe   \n",
       "3                     Luxury,Performance      Compact         Coupe   \n",
       "4                                 Luxury      Compact   Convertible   \n",
       "\n",
       "   highway MPG  city mpg  Popularity   MSRP  \n",
       "0           26        19        3916  46135  \n",
       "1           28        19        3916  40650  \n",
       "2           28        20        3916  36350  \n",
       "3           28        18        3916  29450  \n",
       "4           28        18        3916  34500  "
      ]
     },
     "execution_count": 2,
     "metadata": {},
     "output_type": "execute_result"
    }
   ],
   "source": [
    "data = pd.read_csv('data.csv')\n",
    "data.head()"
   ]
  },
  {
   "cell_type": "code",
   "execution_count": 3,
   "id": "212f4942",
   "metadata": {},
   "outputs": [
    {
     "data": {
      "text/html": [
       "<div>\n",
       "<style scoped>\n",
       "    .dataframe tbody tr th:only-of-type {\n",
       "        vertical-align: middle;\n",
       "    }\n",
       "\n",
       "    .dataframe tbody tr th {\n",
       "        vertical-align: top;\n",
       "    }\n",
       "\n",
       "    .dataframe thead th {\n",
       "        text-align: right;\n",
       "    }\n",
       "</style>\n",
       "<table border=\"1\" class=\"dataframe\">\n",
       "  <thead>\n",
       "    <tr style=\"text-align: right;\">\n",
       "      <th></th>\n",
       "      <th>Make</th>\n",
       "      <th>Model</th>\n",
       "      <th>Year</th>\n",
       "      <th>Engine HP</th>\n",
       "      <th>Engine Cylinders</th>\n",
       "      <th>Transmission Type</th>\n",
       "      <th>Vehicle Style</th>\n",
       "      <th>highway MPG</th>\n",
       "      <th>city mpg</th>\n",
       "      <th>MSRP</th>\n",
       "    </tr>\n",
       "  </thead>\n",
       "  <tbody>\n",
       "    <tr>\n",
       "      <th>0</th>\n",
       "      <td>BMW</td>\n",
       "      <td>1 Series M</td>\n",
       "      <td>2011</td>\n",
       "      <td>335.0</td>\n",
       "      <td>6.0</td>\n",
       "      <td>MANUAL</td>\n",
       "      <td>Coupe</td>\n",
       "      <td>26</td>\n",
       "      <td>19</td>\n",
       "      <td>46135</td>\n",
       "    </tr>\n",
       "    <tr>\n",
       "      <th>1</th>\n",
       "      <td>BMW</td>\n",
       "      <td>1 Series</td>\n",
       "      <td>2011</td>\n",
       "      <td>300.0</td>\n",
       "      <td>6.0</td>\n",
       "      <td>MANUAL</td>\n",
       "      <td>Convertible</td>\n",
       "      <td>28</td>\n",
       "      <td>19</td>\n",
       "      <td>40650</td>\n",
       "    </tr>\n",
       "    <tr>\n",
       "      <th>2</th>\n",
       "      <td>BMW</td>\n",
       "      <td>1 Series</td>\n",
       "      <td>2011</td>\n",
       "      <td>300.0</td>\n",
       "      <td>6.0</td>\n",
       "      <td>MANUAL</td>\n",
       "      <td>Coupe</td>\n",
       "      <td>28</td>\n",
       "      <td>20</td>\n",
       "      <td>36350</td>\n",
       "    </tr>\n",
       "    <tr>\n",
       "      <th>3</th>\n",
       "      <td>BMW</td>\n",
       "      <td>1 Series</td>\n",
       "      <td>2011</td>\n",
       "      <td>230.0</td>\n",
       "      <td>6.0</td>\n",
       "      <td>MANUAL</td>\n",
       "      <td>Coupe</td>\n",
       "      <td>28</td>\n",
       "      <td>18</td>\n",
       "      <td>29450</td>\n",
       "    </tr>\n",
       "    <tr>\n",
       "      <th>4</th>\n",
       "      <td>BMW</td>\n",
       "      <td>1 Series</td>\n",
       "      <td>2011</td>\n",
       "      <td>230.0</td>\n",
       "      <td>6.0</td>\n",
       "      <td>MANUAL</td>\n",
       "      <td>Convertible</td>\n",
       "      <td>28</td>\n",
       "      <td>18</td>\n",
       "      <td>34500</td>\n",
       "    </tr>\n",
       "  </tbody>\n",
       "</table>\n",
       "</div>"
      ],
      "text/plain": [
       "  Make       Model  Year  Engine HP  Engine Cylinders Transmission Type  \\\n",
       "0  BMW  1 Series M  2011      335.0               6.0            MANUAL   \n",
       "1  BMW    1 Series  2011      300.0               6.0            MANUAL   \n",
       "2  BMW    1 Series  2011      300.0               6.0            MANUAL   \n",
       "3  BMW    1 Series  2011      230.0               6.0            MANUAL   \n",
       "4  BMW    1 Series  2011      230.0               6.0            MANUAL   \n",
       "\n",
       "  Vehicle Style  highway MPG  city mpg   MSRP  \n",
       "0         Coupe           26        19  46135  \n",
       "1   Convertible           28        19  40650  \n",
       "2         Coupe           28        20  36350  \n",
       "3         Coupe           28        18  29450  \n",
       "4   Convertible           28        18  34500  "
      ]
     },
     "execution_count": 3,
     "metadata": {},
     "output_type": "execute_result"
    }
   ],
   "source": [
    "features = [\n",
    "    'Make',\n",
    "    'Model',\n",
    "    'Year',\n",
    "    'Engine HP',\n",
    "    'Engine Cylinders',\n",
    "    'Transmission Type',\n",
    "    'Vehicle Style',\n",
    "    'highway MPG',\n",
    "    'city mpg'\n",
    "]\n",
    "\n",
    "df = data[features+['MSRP']].copy()\n",
    "df.head()"
   ]
  },
  {
   "cell_type": "code",
   "execution_count": 4,
   "id": "c83da489",
   "metadata": {},
   "outputs": [],
   "source": [
    "#@ cleaning data for consistency\n",
    "df.columns = df.columns.str.lower().str.replace(' ', '_')\n",
    "for col in list(df.dtypes[df.dtypes == 'object'].index):\n",
    "    df[col] = df[col].str.lower().str.replace(' ', '_')\n",
    "\n",
    "#@ filling empty entries with zero\n",
    "df = df.fillna(0)\n",
    "\n",
    "#@ converting the MSRP column to `price`\n",
    "df.columns = df.columns.str.lower().str.replace('msrp', 'price')"
   ]
  },
  {
   "cell_type": "markdown",
   "id": "3e653323",
   "metadata": {},
   "source": [
    "## Question 1\n",
    "What is the most frequent observation (mode) for the column transmission_type?"
   ]
  },
  {
   "cell_type": "code",
   "execution_count": 5,
   "id": "6ebec71f",
   "metadata": {},
   "outputs": [
    {
     "data": {
      "text/plain": [
       "0    automatic\n",
       "Name: transmission_type, dtype: object"
      ]
     },
     "execution_count": 5,
     "metadata": {},
     "output_type": "execute_result"
    }
   ],
   "source": [
    "#@ modal entry for transmission_type\n",
    "df['transmission_type'].mode()"
   ]
  },
  {
   "cell_type": "markdown",
   "id": "9500e9b3",
   "metadata": {},
   "source": [
    "-----------------------------\n",
    "## Question 2\n",
    "Create the correlation matrix for the numerical features of your dataset. In a correlation matrix, you compute the correlation coefficient between every pair of features in the dataset.\n",
    "\n",
    "What are the two features that have the biggest correlation in this dataset?"
   ]
  },
  {
   "cell_type": "code",
   "execution_count": 6,
   "id": "c2e35844",
   "metadata": {},
   "outputs": [
    {
     "data": {
      "image/png": "[encoded data removed]",
      "text/plain": [
       "<Figure size 400x300 with 2 Axes>"
      ]
     },
     "metadata": {},
     "output_type": "display_data"
    }
   ],
   "source": [
    "#@ numercial columns\n",
    "numerical = list(df.dtypes[df.dtypes != 'object'].index)\n",
    "categorical = list(df.dtypes[df.dtypes == 'object'].index)\n",
    "\n",
    "#@ correlation matrix\n",
    "corr_matrix = df[numerical].corr()\n",
    "\n",
    "#@ visualising the correlation\n",
    "plt.figure(figsize=(4,3))\n",
    "sns.heatmap(corr_matrix, annot=True, cmap='Blues', linewidths=0.1)\n",
    "plt.show()"
   ]
  },
  {
   "cell_type": "markdown",
   "id": "0cf43a4e",
   "metadata": {},
   "source": [
    "ans: highway_mpg and city_mpg\n",
    "<---"
   ]
  },
  {
   "cell_type": "code",
   "execution_count": 7,
   "id": "67c8ffe7",
   "metadata": {},
   "outputs": [],
   "source": [
    "#@ making the price binary ie above average, 1. below average, 0.\n",
    "avg_price = df.price.mean()\n",
    "df['above_average'] = (df['price'] >= avg_price).astype(int)"
   ]
  },
  {
   "cell_type": "code",
   "execution_count": 8,
   "id": "850bb0cf",
   "metadata": {},
   "outputs": [],
   "source": [
    "#@ splitting the dataset\n",
    "df_full_train, df_test = train_test_split(df, test_size=0.2, random_state=42)\n",
    "df_train, df_val = train_test_split(df_full_train, test_size=0.25, random_state=42)\n",
    "\n",
    "df_train = df_train.reset_index(drop=True)\n",
    "df_val = df_val.reset_index(drop=True)\n",
    "df_test = df_test.reset_index(drop=True)\n",
    "\n",
    "y_train = df_train['above_average'].values\n",
    "y_val = df_val['above_average'].values\n",
    "y_test = df_test['above_average'].values\n",
    "\n",
    "del df_train['price']\n",
    "del df_val['price']\n",
    "del df_test['price']"
   ]
  },
  {
   "cell_type": "markdown",
   "id": "a9dc89b9",
   "metadata": {},
   "source": [
    "### Question 3\n",
    "\n",
    "    Calculate the mutual information score between above_average and other categorical variables in our dataset. Use the training set only.\n",
    "    Round the scores to 2 decimals using round(score, 2).\n",
    "\n",
    "Which of these variables has the lowest mutual information score?\n",
    "\n",
    "    make\n",
    "    model\n",
    "    transmission_type\n",
    "    vehicle_style\n"
   ]
  },
  {
   "cell_type": "code",
   "execution_count": 9,
   "id": "8c6ede27",
   "metadata": {
    "scrolled": true
   },
   "outputs": [
    {
     "data": {
      "text/plain": [
       "make                 0.24\n",
       "model                0.46\n",
       "transmission_type    0.02\n",
       "vehicle_style        0.08\n",
       "dtype: float64"
      ]
     },
     "execution_count": 9,
     "metadata": {},
     "output_type": "execute_result"
    }
   ],
   "source": [
    "def mutual_info(series):\n",
    "    return mutual_info_score(df_train['above_average'], series)\n",
    "\n",
    "score = df_train[categorical].apply(mutual_info)\n",
    "round(score, 2)"
   ]
  },
  {
   "cell_type": "markdown",
   "id": "33a8af11",
   "metadata": {},
   "source": [
    "Ans: transmission_type"
   ]
  },
  {
   "cell_type": "markdown",
   "id": "7e879a5d",
   "metadata": {},
   "source": [
    "---\n",
    "### Question 4\n",
    "\n",
    "    Now let's train a logistic regression.\n",
    "    Remember that we have several categorical variables in the dataset. Include them using one-hot encoding.\n",
    "    Fit the model on the training dataset.\n",
    "        To make sure the results are reproducible across different versions of Scikit-Learn, fit the model with these parameters:\n",
    "        model = LogisticRegression(solver='liblinear', C=10, max_iter=1000, random_state=42)\n",
    "    Calculate the accuracy on the validation dataset and round it to 2 decimal digits.\n",
    "\n",
    "What accuracy did you get?\n",
    "\n",
    "    0.60\n",
    "    0.72\n",
    "    0.84\n",
    "    0.95\n"
   ]
  },
  {
   "cell_type": "code",
   "execution_count": 10,
   "id": "cab9e9b6",
   "metadata": {},
   "outputs": [],
   "source": [
    "#@ removing the target variable from the dataframe\n",
    "del df_train['above_average']\n",
    "del df_val['above_average']\n",
    "del df_test['above_average']"
   ]
  },
  {
   "cell_type": "code",
   "execution_count": 11,
   "id": "4f156896",
   "metadata": {},
   "outputs": [],
   "source": [
    "model = LogisticRegression(solver='liblinear', C=10, max_iter=1000, random_state=42)\n",
    "dv = DictVectorizer(sparse=False)"
   ]
  },
  {
   "cell_type": "code",
   "execution_count": 12,
   "id": "b2ca551c",
   "metadata": {},
   "outputs": [],
   "source": [
    "#@ converting dataframes to dictionaries and then to vectors\n",
    "#@ fitting and predicting with our model\n",
    "\n",
    "train_dicts = df_train.to_dict(orient='records')\n",
    "X_train = dv.fit_transform(train_dicts)\n",
    "model.fit(X_train, y_train)\n",
    "\n",
    "val_dicts = df_val.to_dict(orient='records')\n",
    "X_val = dv.transform(val_dicts)\n",
    "y_pred = model.predict_proba(X_val)[:,1]"
   ]
  },
  {
   "cell_type": "code",
   "execution_count": 13,
   "id": "c8e1e43f",
   "metadata": {},
   "outputs": [
    {
     "data": {
      "text/plain": [
       "0.94"
      ]
     },
     "execution_count": 13,
     "metadata": {},
     "output_type": "execute_result"
    }
   ],
   "source": [
    "churn_decision = (y_pred>=0.5)\n",
    "y_predictions = churn_decision.astype(int)\n",
    "\n",
    "global_accuracy_score = accuracy_score(y_val, y_predictions)\n",
    "round(global_accuracy_score, 2)"
   ]
  },
  {
   "cell_type": "markdown",
   "id": "79af4217",
   "metadata": {},
   "source": [
    "---\n",
    "## Question 5\n",
    "\n",
    "    Let's find the least useful feature using the feature elimination technique.\n",
    "    Train a model with all these features (using the same parameters as in Q4).\n",
    "    Now exclude each feature from this set and train a model without it. Record the accuracy for each model.\n",
    "    For each feature, calculate the difference between the original accuracy and the accuracy without the feature.\n",
    "\n",
    "Which of following feature has the smallest difference?\n",
    "\n",
    "    year\n",
    "    engine_hp\n",
    "    transmission_type\n",
    "    city_mpg\n",
    "\n",
    "`Note: the difference doesn't have to be positive`\n"
   ]
  },
  {
   "cell_type": "code",
   "execution_count": 14,
   "id": "c1558a0f",
   "metadata": {},
   "outputs": [
    {
     "data": {
      "text/plain": [
       "[('make', 0.007133864876206486),\n",
       " ('model', 0.022660511959714635),\n",
       " ('transmission_type', 0.005874947545111198),\n",
       " ('vehicle_style', 0.0020981955518254436),\n",
       " ('year', 0.009651699538396952),\n",
       " ('engine_hp', 0.014687368862777994),\n",
       " ('engine_cylinders', 0.008812421317666796),\n",
       " ('highway_mpg', 0.003357112882920732),\n",
       " ('city_mpg', 0.007553503986571508)]"
      ]
     },
     "execution_count": 14,
     "metadata": {},
     "output_type": "execute_result"
    }
   ],
   "source": [
    "scores = []\n",
    "numerical = ['year','engine_hp','engine_cylinders','highway_mpg','city_mpg']\n",
    "\n",
    "features = categorical+numerical\n",
    "\n",
    "for feature in features:\n",
    "    subset = features.copy()\n",
    "    subset.remove(feature)\n",
    "    \n",
    "    train_dicts = df_train[subset].to_dict(orient='records')\n",
    "    X_train = dv.fit_transform(train_dicts)\n",
    "    model.fit(X_train, y_train)\n",
    "\n",
    "    val_dicts = df_val[subset].to_dict(orient='records')\n",
    "    X_val = dv.transform(val_dicts)\n",
    "    y_pred = model.predict_proba(X_val)[:,1]\n",
    "    \n",
    "    \n",
    "    churn_decision = (y_pred>=0.5)\n",
    "    y_predictions = churn_decision.astype(int)\n",
    "\n",
    "    score = accuracy_score(y_val, y_predictions)\n",
    "    diff = global_accuracy_score - score\n",
    "    scores.append((feature, abs(diff)))\n",
    "scores"
   ]
  },
  {
   "cell_type": "code",
   "execution_count": 15,
   "id": "b7b834fe",
   "metadata": {},
   "outputs": [],
   "source": [
    "dd = pd.DataFrame(scores, columns=['feature', 'score'])"
   ]
  },
  {
   "cell_type": "code",
   "execution_count": 18,
   "id": "4809faeb",
   "metadata": {},
   "outputs": [
    {
     "data": {
      "image/png": "[encoded data removed]",
      "text/plain": [
       "<Figure size 300x300 with 1 Axes>"
      ]
     },
     "metadata": {},
     "output_type": "display_data"
    }
   ],
   "source": [
    "plt.figure(figsize=(3,3))\n",
    "sns.barplot(x=dd['feature'], y=dd['score'], color='Black', capsize=3)\n",
    "plt.xticks(rotation=90, ha='right')\n",
    "plt.show()"
   ]
  },
  {
   "cell_type": "markdown",
   "id": "6b9dff80",
   "metadata": {},
   "source": [
    "Ans: transmission_type"
   ]
  },
  {
   "cell_type": "markdown",
   "id": "1f4ceeb5",
   "metadata": {},
   "source": [
    "---\n",
    "### Question 6\n",
    "\n",
    "    For this question, we'll see how to use a linear regression model from Scikit-Learn.\n",
    "    We'll need to use the original column price. Apply the logarithmic transformation to this column.\n",
    "    Fit the Ridge regression model on the training data with a solver 'sag'. Set the seed to 42.\n",
    "    This model also has a parameter alpha. Let's try the following values: [0, 0.01, 0.1, 1, 10].\n",
    "    Round your RMSE scores to 3 decimal digits.\n",
    "\n",
    "Which of these alphas leads to the best RMSE on the validation set?\n",
    "\n",
    "    0\n",
    "    0.01\n",
    "    0.1\n",
    "    1\n",
    "    10\n",
    "\n",
    "`Note: If there are multiple options, select the smallest alpha.`\n"
   ]
  },
  {
   "cell_type": "code",
   "execution_count": 17,
   "id": "0f78862f",
   "metadata": {},
   "outputs": [],
   "source": [
    "df_full_train, df_test = train_test_split(df, test_size=0.2, random_state=42)\n",
    "df_train, df_val = train_test_split(df_full_train, test_size=0.25, random_state=42)\n",
    "\n",
    "df_train = df_train.reset_index(drop=True)\n",
    "df_val = df_val.reset_index(drop=True)\n",
    "df_test = df_test.reset_index(drop=True)\n",
    "\n",
    "y_train = np.log1p(df_train['price'].values)\n",
    "y_val = np.log1p(df_val['price'].values)\n",
    "y_test = np.log1p(df_test['price'].values)\n",
    "\n",
    "\n",
    "del df_train['price']\n",
    "del df_val['price']\n",
    "del df_test['price']\n",
    "del df_train['above_average']\n",
    "del df_val['above_average']\n",
    "del df_test['above_average']"
   ]
  },
  {
   "cell_type": "code",
   "execution_count": 25,
   "id": "0a9c73d0",
   "metadata": {},
   "outputs": [
    {
     "data": {
      "text/plain": [
       "[(0, 0.23122851795338742),\n",
       " (0.01, 0.22418922721179552),\n",
       " (0.1, 0.21475934130808064),\n",
       " (1, 0.22963102816535536),\n",
       " (10, 0.32273425299218816)]"
      ]
     },
     "execution_count": 25,
     "metadata": {},
     "output_type": "execute_result"
    }
   ],
   "source": [
    "scores =[]\n",
    "\n",
    "scaler = MinMaxScaler()\n",
    "ohe = OneHotEncoder(sparse_output=False, handle_unknown='ignore')\n",
    "\n",
    "\n",
    "for a in [0, 0.01, 0.1, 1, 10]:\n",
    "    model = Ridge(alpha=a, solver=\"sag\", random_state=42)\n",
    "    train_num = scaler.fit_transform(df_train[numerical].values)\n",
    "    train_cat = ohe.fit_transform(df_train[categorical].values)\n",
    "    X_train = np.column_stack([train_num, train_cat])\n",
    "    model.fit(X_train, y_train)\n",
    "\n",
    "    val_num = scaler.transform(df_val[numerical].values)\n",
    "    val_cat = ohe.transform(df_val[categorical].values)\n",
    "    X_val = np.column_stack([val_num, val_cat])\n",
    "\n",
    "    y_pred = model.predict(X_val)\n",
    "    \n",
    "    score = np.sqrt(mean_squared_error(y_val, y_pred))\n",
    "    scores.append((a, score))\n",
    "\n",
    "scores   "
   ]
  },
  {
   "cell_type": "code",
   "execution_count": 26,
   "id": "2c579b36",
   "metadata": {},
   "outputs": [
    {
     "data": {
      "image/png": "[encoded data removed]",
      "text/plain": [
       "<Figure size 300x300 with 1 Axes>"
      ]
     },
     "metadata": {},
     "output_type": "display_data"
    }
   ],
   "source": [
    "dd = pd.DataFrame(scores, columns=['a', 'score'])\n",
    "plt.figure(figsize=(3,3))\n",
    "sns.barplot(x=dd['a'], y=dd['score'], color='Black', capsize=3)\n",
    "plt.xticks(rotation=90, ha='right')\n",
    "plt.show()"
   ]
  },
  {
   "cell_type": "code",
   "execution_count": null,
   "id": "dc97ccc0",
   "metadata": {},
   "outputs": [],
   "source": []
  }
 ],
 "metadata": {
  "kernelspec": {
   "display_name": "Python 3 (ipykernel)",
   "language": "python",
   "name": "python3"
  },
  "language_info": {
   "codemirror_mode": {
    "name": "ipython",
    "version": 3
   },
   "file_extension": ".py",
   "mimetype": "text/x-python",
   "name": "python",
   "nbconvert_exporter": "python",
   "pygments_lexer": "ipython3",
   "version": "3.11.4"
  }
 },
 "nbformat": 4,
 "nbformat_minor": 5
}
