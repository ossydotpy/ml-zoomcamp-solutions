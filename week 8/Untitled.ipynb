{
 "cells": [
  {
   "cell_type": "markdown",
   "id": "93579e3d",
   "metadata": {},
   "source": [
    "## Homework\n",
    "\n",
    "\n",
    "### Dataset\n",
    "\n",
    "In this homework, we'll build a model for predicting if we have an image of a bee or a wasp. \n",
    "For this, we will use the \"Bee or Wasp?\" dataset that was obtained from [Kaggle](https://www.kaggle.com/datasets/jerzydziewierz/bee-vs-wasp) and slightly rebuilt. \n",
    "\n",
    "You can download the dataset for this homework from [here](https://github.com/SVizor42/ML_Zoomcamp/releases/download/bee-wasp-data/data.zip):\n",
    "\n",
    "```bash\n",
    "wget https://github.com/SVizor42/ML_Zoomcamp/releases/download/bee-wasp-data/data.zip\n",
    "unzip data.zip\n",
    "```\n",
    "\n",
    "In the lectures we saw how to use a pre-trained neural network. In the homework, we'll train a much smaller model from scratch. "
   ]
  },
  {
   "cell_type": "code",
   "execution_count": 1,
   "id": "ab8a0a0a",
   "metadata": {},
   "outputs": [
    {
     "name": "stderr",
     "output_type": "stream",
     "text": [
      "2023-11-13 13:24:58.810068: E tensorflow/compiler/xla/stream_executor/cuda/cuda_dnn.cc:9342] Unable to register cuDNN factory: Attempting to register factory for plugin cuDNN when one has already been registered\n",
      "2023-11-13 13:24:58.810121: E tensorflow/compiler/xla/stream_executor/cuda/cuda_fft.cc:609] Unable to register cuFFT factory: Attempting to register factory for plugin cuFFT when one has already been registered\n",
      "2023-11-13 13:24:58.810176: E tensorflow/compiler/xla/stream_executor/cuda/cuda_blas.cc:1518] Unable to register cuBLAS factory: Attempting to register factory for plugin cuBLAS when one has already been registered\n",
      "2023-11-13 13:24:58.819191: I tensorflow/core/platform/cpu_feature_guard.cc:182] This TensorFlow binary is optimized to use available CPU instructions in performance-critical operations.\n",
      "To enable the following instructions: AVX2 FMA, in other operations, rebuild TensorFlow with the appropriate compiler flags.\n"
     ]
    }
   ],
   "source": [
    "import numpy as np\n",
    "import tensorflow as tf\n",
    "import matplotlib.pyplot as plt\n",
    "\n",
    "from tensorflow import keras\n",
    "from tensorflow.keras.utils import plot_model\n",
    "from tensorflow.keras.preprocessing.image import load_img, ImageDataGenerator\n",
    "from tensorflow.keras.applications.xception import Xception, preprocess_input"
   ]
  },
  {
   "cell_type": "markdown",
   "id": "2e67284f",
   "metadata": {},
   "source": [
    "\n",
    "### Data Preparation\n",
    "\n",
    "The dataset contains around 2500 images of bees and around 2100 images of wasps. \n",
    "\n",
    "The dataset contains separate folders for training and test sets. \n",
    "\n",
    "\n",
    "### Model\n",
    "\n",
    "For this homework we will use Convolutional Neural Network (CNN). Like in the lectures, we'll use Keras.\n",
    "\n",
    "You need to develop the model with following structure:\n",
    "\n",
    "* The shape for input should be `(150, 150, 3)`\n",
    "* Next, create a convolutional layer ([`Conv2D`](https://keras.io/api/layers/convolution_layers/convolution2d/)):\n",
    "    * Use 32 filters\n",
    "    * Kernel size should be `(3, 3)` (that's the size of the filter)\n",
    "    * Use `'relu'` as activation \n",
    "* Reduce the size of the feature map with max pooling ([`MaxPooling2D`](https://keras.io/api/layers/pooling_layers/max_pooling2d/))\n",
    "    * Set the pooling size to `(2, 2)`\n",
    "* Turn the multi-dimensional result into vectors using a [`Flatten`](https://keras.io/api/layers/reshaping_layers/flatten/) layer\n",
    "* Next, add a `Dense` layer with 64 neurons and `'relu'` activation\n",
    "* Finally, create the `Dense` layer with 1 neuron - this will be the output\n",
    "    * The output layer should have an activation - use the appropriate activation for the binary classification case\n",
    "\n",
    "As optimizer use [`SGD`](https://keras.io/api/optimizers/sgd/) with the following parameters:\n",
    "\n",
    "* `SGD(lr=0.002, momentum=0.8)`\n",
    "\n",
    "For clarification about kernel size and max pooling, check [Office Hours](https://www.youtube.com/watch?v=1WRgdBTUaAc).\n"
   ]
  },
  {
   "cell_type": "code",
   "execution_count": 2,
   "id": "a3f87327",
   "metadata": {},
   "outputs": [],
   "source": [
    "def create_model():\n",
    "    # Define the input layer\n",
    "    inputs = keras.Input(shape=(150, 150, 3))\n",
    "\n",
    "    # Convolutional layer\n",
    "    conv_layer = keras.layers.Conv2D(filters=32, kernel_size=(3, 3), activation='relu')(inputs)\n",
    "    \n",
    "    # Max pooling\n",
    "    vectors = keras.layers.MaxPooling2D(pool_size=(2, 2))(conv_layer)\n",
    "    \n",
    "    # Flatten\n",
    "    vectors = keras.layers.Flatten()(vectors)\n",
    "    \n",
    "    # Dense inner layer\n",
    "    inner_layer = keras.layers.Dense(60, activation='relu')(vectors)\n",
    "\n",
    "    # Output layer\n",
    "    outputs = keras.layers.Dense(1, activation='sigmoid')(inner_layer)\n",
    "\n",
    "    # Compile the model\n",
    "    optimizer = keras.optimizers.SGD(learning_rate=0.002, momentum=0.8)\n",
    "    loss = keras.losses.BinaryCrossentropy()\n",
    "    model = keras.Model(inputs, outputs)\n",
    "    model.compile(optimizer=optimizer, loss=loss, metrics=['accuracy'])\n",
    "\n",
    "    return model"
   ]
  },
  {
   "cell_type": "markdown",
   "id": "a5f88999",
   "metadata": {},
   "source": [
    "### Question 1\n",
    "\n",
    "Since we have a binary classification problem, what is the best loss function for us?\n",
    "\n",
    "* `mean squared error`\n",
    "* `binary crossentropy`\n",
    "* `categorical crossentropy`\n",
    "* `cosine similarity`\n",
    "\n",
    "> **Note:** since we specify an activation for the output layer, we don't need to set `from_logits=True`\n",
    "\n"
   ]
  },
  {
   "cell_type": "markdown",
   "id": "be953ed5",
   "metadata": {},
   "source": [
    "Ans: binary crossentropy"
   ]
  },
  {
   "cell_type": "markdown",
   "id": "f61b5107",
   "metadata": {},
   "source": [
    "\n",
    "\n",
    "### Question 2\n",
    "\n",
    "What's the number of parameters in the convolutional layer of our model? You can use the `summary` method for that. \n",
    "\n",
    "* 1 \n",
    "* 65\n",
    "* 896\n",
    "* 11214912\n"
   ]
  },
  {
   "cell_type": "code",
   "execution_count": 3,
   "id": "462a75fe",
   "metadata": {},
   "outputs": [
    {
     "name": "stderr",
     "output_type": "stream",
     "text": [
      "2023-11-13 13:25:01.707582: I tensorflow/compiler/xla/stream_executor/cuda/cuda_gpu_executor.cc:894] successful NUMA node read from SysFS had negative value (-1), but there must be at least one NUMA node, so returning NUMA node zero. See more at https://github.com/torvalds/linux/blob/v6.0/Documentation/ABI/testing/sysfs-bus-pci#L344-L355\n",
      "2023-11-13 13:25:01.714989: I tensorflow/compiler/xla/stream_executor/cuda/cuda_gpu_executor.cc:894] successful NUMA node read from SysFS had negative value (-1), but there must be at least one NUMA node, so returning NUMA node zero. See more at https://github.com/torvalds/linux/blob/v6.0/Documentation/ABI/testing/sysfs-bus-pci#L344-L355\n",
      "2023-11-13 13:25:01.715375: I tensorflow/compiler/xla/stream_executor/cuda/cuda_gpu_executor.cc:894] successful NUMA node read from SysFS had negative value (-1), but there must be at least one NUMA node, so returning NUMA node zero. See more at https://github.com/torvalds/linux/blob/v6.0/Documentation/ABI/testing/sysfs-bus-pci#L344-L355\n",
      "2023-11-13 13:25:01.716449: I tensorflow/compiler/xla/stream_executor/cuda/cuda_gpu_executor.cc:894] successful NUMA node read from SysFS had negative value (-1), but there must be at least one NUMA node, so returning NUMA node zero. See more at https://github.com/torvalds/linux/blob/v6.0/Documentation/ABI/testing/sysfs-bus-pci#L344-L355\n",
      "2023-11-13 13:25:01.716764: I tensorflow/compiler/xla/stream_executor/cuda/cuda_gpu_executor.cc:894] successful NUMA node read from SysFS had negative value (-1), but there must be at least one NUMA node, so returning NUMA node zero. See more at https://github.com/torvalds/linux/blob/v6.0/Documentation/ABI/testing/sysfs-bus-pci#L344-L355\n",
      "2023-11-13 13:25:01.717006: I tensorflow/compiler/xla/stream_executor/cuda/cuda_gpu_executor.cc:894] successful NUMA node read from SysFS had negative value (-1), but there must be at least one NUMA node, so returning NUMA node zero. See more at https://github.com/torvalds/linux/blob/v6.0/Documentation/ABI/testing/sysfs-bus-pci#L344-L355\n",
      "2023-11-13 13:25:01.811081: I tensorflow/compiler/xla/stream_executor/cuda/cuda_gpu_executor.cc:894] successful NUMA node read from SysFS had negative value (-1), but there must be at least one NUMA node, so returning NUMA node zero. See more at https://github.com/torvalds/linux/blob/v6.0/Documentation/ABI/testing/sysfs-bus-pci#L344-L355\n",
      "2023-11-13 13:25:01.811289: I tensorflow/compiler/xla/stream_executor/cuda/cuda_gpu_executor.cc:894] successful NUMA node read from SysFS had negative value (-1), but there must be at least one NUMA node, so returning NUMA node zero. See more at https://github.com/torvalds/linux/blob/v6.0/Documentation/ABI/testing/sysfs-bus-pci#L344-L355\n",
      "2023-11-13 13:25:01.811526: I tensorflow/compiler/xla/stream_executor/cuda/cuda_gpu_executor.cc:894] successful NUMA node read from SysFS had negative value (-1), but there must be at least one NUMA node, so returning NUMA node zero. See more at https://github.com/torvalds/linux/blob/v6.0/Documentation/ABI/testing/sysfs-bus-pci#L344-L355\n",
      "2023-11-13 13:25:01.811665: I tensorflow/core/common_runtime/gpu/gpu_device.cc:1886] Created device /job:localhost/replica:0/task:0/device:GPU:0 with 5453 MB memory:  -> device: 0, name: NVIDIA GeForce GTX 1060, pci bus id: 0000:01:00.0, compute capability: 6.1\n"
     ]
    },
    {
     "name": "stdout",
     "output_type": "stream",
     "text": [
      "Model: \"model\"\n",
      "_________________________________________________________________\n",
      " Layer (type)                Output Shape              Param #   \n",
      "=================================================================\n",
      " input_1 (InputLayer)        [(None, 150, 150, 3)]     0         \n",
      "                                                                 \n",
      " conv2d (Conv2D)             (None, 148, 148, 32)      896       \n",
      "                                                                 \n",
      " max_pooling2d (MaxPooling2  (None, 74, 74, 32)        0         \n",
      " D)                                                              \n",
      "                                                                 \n",
      " flatten (Flatten)           (None, 175232)            0         \n",
      "                                                                 \n",
      " dense (Dense)               (None, 60)                10513980  \n",
      "                                                                 \n",
      " dense_1 (Dense)             (None, 1)                 61        \n",
      "                                                                 \n",
      "=================================================================\n",
      "Total params: 10514937 (40.11 MB)\n",
      "Trainable params: 10514937 (40.11 MB)\n",
      "Non-trainable params: 0 (0.00 Byte)\n",
      "_________________________________________________________________\n"
     ]
    }
   ],
   "source": [
    "model = create_model()\n",
    "model.summary()"
   ]
  },
  {
   "cell_type": "markdown",
   "id": "d89d31c9",
   "metadata": {},
   "source": [
    "### Generators and Training\n",
    "\n",
    "For the next two questions, use the following data generator for both train and test sets:\n",
    "\n",
    "```python\n",
    "ImageDataGenerator(rescale=1./255)\n",
    "```\n",
    "\n",
    "* We don't need to do any additional pre-processing for the images.\n",
    "* When reading the data from train/test directories, check the `class_mode` parameter. Which value should it be for a binary classification problem?\n",
    "* Use `batch_size=20`\n",
    "* Use `shuffle=True` for both training and test sets. \n",
    "\n",
    "For training use `.fit()` with the following params:\n",
    "\n",
    "```python\n",
    "model.fit(\n",
    "    train_generator,\n",
    "    epochs=10,\n",
    "    validation_data=test_generator\n",
    ")\n",
    "```"
   ]
  },
  {
   "cell_type": "code",
   "execution_count": 4,
   "id": "3eee4edd",
   "metadata": {},
   "outputs": [
    {
     "name": "stdout",
     "output_type": "stream",
     "text": [
      "Found 3677 images belonging to 2 classes.\n",
      "Found 918 images belonging to 2 classes.\n"
     ]
    }
   ],
   "source": [
    "train_gen = ImageDataGenerator(rescale=1./255)\n",
    "test_gen = ImageDataGenerator(rescale=1./255)\n",
    "\n",
    "train_ds = train_gen.flow_from_directory('data/train',\n",
    "                                         target_size=(150,150), \n",
    "                                         batch_size=20, \n",
    "                                         shuffle=True, \n",
    "                                         class_mode='binary'\n",
    "                                        )\n",
    "test_ds = test_gen.flow_from_directory('data/test',\n",
    "                                       target_size=(150,150), \n",
    "                                       batch_size=20, \n",
    "                                       shuffle=True,\n",
    "                                       class_mode='binary'\n",
    "                                      )"
   ]
  },
  {
   "cell_type": "code",
   "execution_count": 5,
   "id": "1c3431e0",
   "metadata": {
    "scrolled": false
   },
   "outputs": [
    {
     "name": "stdout",
     "output_type": "stream",
     "text": [
      "Epoch 1/10\n"
     ]
    },
    {
     "name": "stderr",
     "output_type": "stream",
     "text": [
      "2023-11-13 13:25:03.693900: I tensorflow/compiler/xla/stream_executor/cuda/cuda_dnn.cc:442] Loaded cuDNN version 8700\n",
      "2023-11-13 13:25:04.692150: I tensorflow/compiler/xla/service/service.cc:168] XLA service 0x7f226c2ae640 initialized for platform CUDA (this does not guarantee that XLA will be used). Devices:\n",
      "2023-11-13 13:25:04.692178: I tensorflow/compiler/xla/service/service.cc:176]   StreamExecutor device (0): NVIDIA GeForce GTX 1060, Compute Capability 6.1\n",
      "2023-11-13 13:25:04.757732: I ./tensorflow/compiler/jit/device_compiler.h:186] Compiled cluster using XLA!  This line is logged at most once for the lifetime of the process.\n"
     ]
    },
    {
     "name": "stdout",
     "output_type": "stream",
     "text": [
      "184/184 [==============================] - 11s 48ms/step - loss: 0.6635 - accuracy: 0.5915 - val_loss: 0.6077 - val_accuracy: 0.6503\n",
      "Epoch 2/10\n",
      "184/184 [==============================] - 9s 50ms/step - loss: 0.5918 - accuracy: 0.6796 - val_loss: 0.5707 - val_accuracy: 0.7092\n",
      "Epoch 3/10\n",
      "184/184 [==============================] - 9s 49ms/step - loss: 0.5476 - accuracy: 0.7343 - val_loss: 0.5459 - val_accuracy: 0.7266\n",
      "Epoch 4/10\n",
      "184/184 [==============================] - 9s 51ms/step - loss: 0.5182 - accuracy: 0.7517 - val_loss: 0.5328 - val_accuracy: 0.7418\n",
      "Epoch 5/10\n",
      "184/184 [==============================] - 9s 50ms/step - loss: 0.5017 - accuracy: 0.7707 - val_loss: 0.5212 - val_accuracy: 0.7538\n",
      "Epoch 6/10\n",
      "184/184 [==============================] - 9s 49ms/step - loss: 0.4736 - accuracy: 0.7865 - val_loss: 0.5727 - val_accuracy: 0.7070\n",
      "Epoch 7/10\n",
      "184/184 [==============================] - 9s 48ms/step - loss: 0.4600 - accuracy: 0.7966 - val_loss: 0.5222 - val_accuracy: 0.7516\n",
      "Epoch 8/10\n",
      "184/184 [==============================] - 9s 48ms/step - loss: 0.4179 - accuracy: 0.8191 - val_loss: 0.5027 - val_accuracy: 0.7636\n",
      "Epoch 9/10\n",
      "184/184 [==============================] - 9s 48ms/step - loss: 0.3912 - accuracy: 0.8317 - val_loss: 0.5038 - val_accuracy: 0.7582\n",
      "Epoch 10/10\n",
      "184/184 [==============================] - 9s 47ms/step - loss: 0.3604 - accuracy: 0.8504 - val_loss: 0.5252 - val_accuracy: 0.7495\n"
     ]
    }
   ],
   "source": [
    "history = model.fit(train_ds, validation_data=test_ds, epochs=10)"
   ]
  },
  {
   "cell_type": "markdown",
   "id": "c1cfec9d",
   "metadata": {},
   "source": [
    "\n",
    "### Question 3\n",
    "\n",
    "What is the median of training accuracy for all the epochs for this model?\n",
    "\n",
    "* 0.20\n",
    "* 0.40\n",
    "* 0.60\n",
    "* 0.80"
   ]
  },
  {
   "cell_type": "code",
   "execution_count": 6,
   "id": "b9c6f3ef",
   "metadata": {},
   "outputs": [
    {
     "data": {
      "text/plain": [
       "0.7786238789558411"
      ]
     },
     "execution_count": 6,
     "metadata": {},
     "output_type": "execute_result"
    }
   ],
   "source": [
    "np.median(history.history['accuracy'])"
   ]
  },
  {
   "cell_type": "markdown",
   "id": "a865dc7d",
   "metadata": {},
   "source": [
    "\n",
    "### Question 4\n",
    "\n",
    "What is the standard deviation of training loss for all the epochs for this model?\n",
    "\n",
    "* 0.031\n",
    "* 0.061\n",
    "* 0.091\n",
    "* 0.131\n"
   ]
  },
  {
   "cell_type": "code",
   "execution_count": 7,
   "id": "402ba077",
   "metadata": {},
   "outputs": [
    {
     "data": {
      "text/plain": [
       "0.08806620461955236"
      ]
     },
     "execution_count": 7,
     "metadata": {},
     "output_type": "execute_result"
    }
   ],
   "source": [
    "np.std(history.history['loss'])"
   ]
  },
  {
   "cell_type": "markdown",
   "id": "3125b8e0",
   "metadata": {},
   "source": [
    "### Data Augmentation\n",
    "\n",
    "For the next two questions, we'll generate more data using data augmentations. \n",
    "\n",
    "Add the following augmentations to your training data generator:\n",
    "\n",
    "* `rotation_range=50,`\n",
    "* `width_shift_range=0.1,`\n",
    "* `height_shift_range=0.1,`\n",
    "* `zoom_range=0.1,`\n",
    "* `horizontal_flip=True,`\n",
    "* `fill_mode='nearest'`"
   ]
  },
  {
   "cell_type": "code",
   "execution_count": 8,
   "id": "8264f690",
   "metadata": {},
   "outputs": [
    {
     "name": "stdout",
     "output_type": "stream",
     "text": [
      "Found 3677 images belonging to 2 classes.\n"
     ]
    }
   ],
   "source": [
    "train_gen = ImageDataGenerator(rescale=1./255, \n",
    "                               rotation_range=50, \n",
    "                               width_shift_range=0.1, \n",
    "                               height_shift_range=0.1,\n",
    "                               zoom_range=0.1,\n",
    "                               horizontal_flip=True,\n",
    "                               fill_mode='nearest'\n",
    "                              )\n",
    "\n",
    "train_ds = train_gen.flow_from_directory('data/train',\n",
    "                                         target_size=(150,150), \n",
    "                                         batch_size=20, \n",
    "                                         shuffle=True, \n",
    "                                         class_mode='binary'\n",
    "                                        )"
   ]
  },
  {
   "cell_type": "code",
   "execution_count": 9,
   "id": "23b6a84b",
   "metadata": {
    "scrolled": true
   },
   "outputs": [
    {
     "name": "stdout",
     "output_type": "stream",
     "text": [
      "Epoch 1/10\n",
      "184/184 [==============================] - 23s 126ms/step - loss: 0.5190 - accuracy: 0.7501 - val_loss: 0.4964 - val_accuracy: 0.7702\n",
      "Epoch 2/10\n",
      "184/184 [==============================] - 24s 128ms/step - loss: 0.4886 - accuracy: 0.7724 - val_loss: 0.5215 - val_accuracy: 0.7353\n",
      "Epoch 3/10\n",
      "184/184 [==============================] - 25s 133ms/step - loss: 0.4865 - accuracy: 0.7699 - val_loss: 0.4876 - val_accuracy: 0.7919\n",
      "Epoch 4/10\n",
      "184/184 [==============================] - 24s 132ms/step - loss: 0.4817 - accuracy: 0.7726 - val_loss: 0.4674 - val_accuracy: 0.7854\n",
      "Epoch 5/10\n",
      "184/184 [==============================] - 28s 151ms/step - loss: 0.4812 - accuracy: 0.7786 - val_loss: 0.5084 - val_accuracy: 0.7767\n",
      "Epoch 6/10\n",
      "184/184 [==============================] - 26s 143ms/step - loss: 0.4606 - accuracy: 0.7873 - val_loss: 0.4686 - val_accuracy: 0.7919\n",
      "Epoch 7/10\n",
      "184/184 [==============================] - 25s 136ms/step - loss: 0.4714 - accuracy: 0.7756 - val_loss: 0.5276 - val_accuracy: 0.7636\n",
      "Epoch 8/10\n",
      "184/184 [==============================] - 25s 135ms/step - loss: 0.4645 - accuracy: 0.7849 - val_loss: 0.4549 - val_accuracy: 0.7919\n",
      "Epoch 9/10\n",
      "184/184 [==============================] - 25s 135ms/step - loss: 0.4629 - accuracy: 0.7879 - val_loss: 0.4621 - val_accuracy: 0.7941\n",
      "Epoch 10/10\n",
      "184/184 [==============================] - 25s 134ms/step - loss: 0.4683 - accuracy: 0.7873 - val_loss: 0.4745 - val_accuracy: 0.7821\n"
     ]
    }
   ],
   "source": [
    "history = model.fit(train_ds, validation_data=test_ds, epochs=10)"
   ]
  },
  {
   "cell_type": "markdown",
   "id": "fc0fabe2",
   "metadata": {},
   "source": [
    "### Question 5 \n",
    "\n",
    "Let's train our model for 10 more epochs using the same code as previously.\n",
    "> **Note:** make sure you don't re-create the model - we want to continue training the model\n",
    "we already started training.\n",
    "\n",
    "What is the mean of test loss for all the epochs for the model trained with augmentations?\n",
    "\n",
    "* 0.18\n",
    "* 0.48\n",
    "* 0.78\n",
    "* 0.108\n"
   ]
  },
  {
   "cell_type": "code",
   "execution_count": 10,
   "id": "4f3eeb53",
   "metadata": {},
   "outputs": [
    {
     "data": {
      "text/plain": [
       "0.4869013547897339"
      ]
     },
     "execution_count": 10,
     "metadata": {},
     "output_type": "execute_result"
    }
   ],
   "source": [
    "np.mean(history.history['val_loss'])"
   ]
  },
  {
   "cell_type": "markdown",
   "id": "4f3972d8",
   "metadata": {},
   "source": [
    "### Question 6\n",
    "\n",
    "What's the average of test accuracy for the last 5 epochs (from 6 to 10)\n",
    "for the model trained with augmentations?\n",
    "\n",
    "* 0.38\n",
    "* 0.58\n",
    "* 0.78\n",
    "* 0.98"
   ]
  },
  {
   "cell_type": "code",
   "execution_count": 11,
   "id": "f0f48ee3",
   "metadata": {},
   "outputs": [
    {
     "data": {
      "text/plain": [
       "0.7847494602203369"
      ]
     },
     "execution_count": 11,
     "metadata": {},
     "output_type": "execute_result"
    }
   ],
   "source": [
    "np.mean(history.history['val_accuracy'][-5:])"
   ]
  },
  {
   "cell_type": "code",
   "execution_count": null,
   "id": "8d6287b0",
   "metadata": {},
   "outputs": [],
   "source": []
  }
 ],
 "metadata": {
  "kernelspec": {
   "display_name": "Python 3 (ipykernel)",
   "language": "python",
   "name": "python3"
  },
  "language_info": {
   "codemirror_mode": {
    "name": "ipython",
    "version": 3
   },
   "file_extension": ".py",
   "mimetype": "text/x-python",
   "name": "python",
   "nbconvert_exporter": "python",
   "pygments_lexer": "ipython3",
   "version": "3.10.13"
  }
 },
 "nbformat": 4,
 "nbformat_minor": 5
}
