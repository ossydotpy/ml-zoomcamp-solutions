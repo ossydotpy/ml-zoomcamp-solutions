{
 "cells": [
  {
   "cell_type": "code",
   "execution_count": 1,
   "id": "0d359af9",
   "metadata": {},
   "outputs": [],
   "source": [
    "import numpy as np\n",
    "import pandas as pd\n",
    "import matplotlib.pyplot as plt\n",
    "\n",
    "from tqdm.auto import tqdm\n",
    "\n",
    "from sklearn.metrics import roc_auc_score\n",
    "from sklearn.linear_model import LogisticRegression\n",
    "from sklearn.feature_extraction import DictVectorizer\n",
    "from sklearn.model_selection import KFold, train_test_split"
   ]
  },
  {
   "cell_type": "code",
   "execution_count": 2,
   "id": "dcfbbeee",
   "metadata": {},
   "outputs": [
    {
     "data": {
      "text/html": [
       "<div>\n",
       "<style scoped>\n",
       "    .dataframe tbody tr th:only-of-type {\n",
       "        vertical-align: middle;\n",
       "    }\n",
       "\n",
       "    .dataframe tbody tr th {\n",
       "        vertical-align: top;\n",
       "    }\n",
       "\n",
       "    .dataframe thead th {\n",
       "        text-align: right;\n",
       "    }\n",
       "</style>\n",
       "<table border=\"1\" class=\"dataframe\">\n",
       "  <thead>\n",
       "    <tr style=\"text-align: right;\">\n",
       "      <th></th>\n",
       "      <th>Make</th>\n",
       "      <th>Model</th>\n",
       "      <th>Year</th>\n",
       "      <th>Engine HP</th>\n",
       "      <th>Engine Cylinders</th>\n",
       "      <th>Transmission Type</th>\n",
       "      <th>Vehicle Style</th>\n",
       "      <th>highway MPG</th>\n",
       "      <th>city mpg</th>\n",
       "      <th>MSRP</th>\n",
       "    </tr>\n",
       "  </thead>\n",
       "  <tbody>\n",
       "    <tr>\n",
       "      <th>0</th>\n",
       "      <td>BMW</td>\n",
       "      <td>1 Series M</td>\n",
       "      <td>2011</td>\n",
       "      <td>335.0</td>\n",
       "      <td>6.0</td>\n",
       "      <td>MANUAL</td>\n",
       "      <td>Coupe</td>\n",
       "      <td>26</td>\n",
       "      <td>19</td>\n",
       "      <td>46135</td>\n",
       "    </tr>\n",
       "    <tr>\n",
       "      <th>1</th>\n",
       "      <td>BMW</td>\n",
       "      <td>1 Series</td>\n",
       "      <td>2011</td>\n",
       "      <td>300.0</td>\n",
       "      <td>6.0</td>\n",
       "      <td>MANUAL</td>\n",
       "      <td>Convertible</td>\n",
       "      <td>28</td>\n",
       "      <td>19</td>\n",
       "      <td>40650</td>\n",
       "    </tr>\n",
       "    <tr>\n",
       "      <th>2</th>\n",
       "      <td>BMW</td>\n",
       "      <td>1 Series</td>\n",
       "      <td>2011</td>\n",
       "      <td>300.0</td>\n",
       "      <td>6.0</td>\n",
       "      <td>MANUAL</td>\n",
       "      <td>Coupe</td>\n",
       "      <td>28</td>\n",
       "      <td>20</td>\n",
       "      <td>36350</td>\n",
       "    </tr>\n",
       "    <tr>\n",
       "      <th>3</th>\n",
       "      <td>BMW</td>\n",
       "      <td>1 Series</td>\n",
       "      <td>2011</td>\n",
       "      <td>230.0</td>\n",
       "      <td>6.0</td>\n",
       "      <td>MANUAL</td>\n",
       "      <td>Coupe</td>\n",
       "      <td>28</td>\n",
       "      <td>18</td>\n",
       "      <td>29450</td>\n",
       "    </tr>\n",
       "    <tr>\n",
       "      <th>4</th>\n",
       "      <td>BMW</td>\n",
       "      <td>1 Series</td>\n",
       "      <td>2011</td>\n",
       "      <td>230.0</td>\n",
       "      <td>6.0</td>\n",
       "      <td>MANUAL</td>\n",
       "      <td>Convertible</td>\n",
       "      <td>28</td>\n",
       "      <td>18</td>\n",
       "      <td>34500</td>\n",
       "    </tr>\n",
       "  </tbody>\n",
       "</table>\n",
       "</div>"
      ],
      "text/plain": [
       "  Make       Model  Year  Engine HP  Engine Cylinders Transmission Type  \\\n",
       "0  BMW  1 Series M  2011      335.0               6.0            MANUAL   \n",
       "1  BMW    1 Series  2011      300.0               6.0            MANUAL   \n",
       "2  BMW    1 Series  2011      300.0               6.0            MANUAL   \n",
       "3  BMW    1 Series  2011      230.0               6.0            MANUAL   \n",
       "4  BMW    1 Series  2011      230.0               6.0            MANUAL   \n",
       "\n",
       "  Vehicle Style  highway MPG  city mpg   MSRP  \n",
       "0         Coupe           26        19  46135  \n",
       "1   Convertible           28        19  40650  \n",
       "2         Coupe           28        20  36350  \n",
       "3         Coupe           28        18  29450  \n",
       "4   Convertible           28        18  34500  "
      ]
     },
     "execution_count": 2,
     "metadata": {},
     "output_type": "execute_result"
    }
   ],
   "source": [
    "columns = [\n",
    "    'Make','Model','Year','Engine HP','Engine Cylinders',\n",
    "    'Transmission Type','Vehicle Style','highway MPG','city mpg','MSRP'\n",
    "]\n",
    "\n",
    "data = pd.read_csv('data.csv', usecols=columns)\n",
    "data.head()"
   ]
  },
  {
   "cell_type": "code",
   "execution_count": 3,
   "id": "689b4cfa",
   "metadata": {},
   "outputs": [
    {
     "data": {
      "text/html": [
       "<div>\n",
       "<style scoped>\n",
       "    .dataframe tbody tr th:only-of-type {\n",
       "        vertical-align: middle;\n",
       "    }\n",
       "\n",
       "    .dataframe tbody tr th {\n",
       "        vertical-align: top;\n",
       "    }\n",
       "\n",
       "    .dataframe thead th {\n",
       "        text-align: right;\n",
       "    }\n",
       "</style>\n",
       "<table border=\"1\" class=\"dataframe\">\n",
       "  <thead>\n",
       "    <tr style=\"text-align: right;\">\n",
       "      <th></th>\n",
       "      <th>make</th>\n",
       "      <th>model</th>\n",
       "      <th>year</th>\n",
       "      <th>engine_hp</th>\n",
       "      <th>engine_cylinders</th>\n",
       "      <th>transmission_type</th>\n",
       "      <th>vehicle_style</th>\n",
       "      <th>highway_mpg</th>\n",
       "      <th>city_mpg</th>\n",
       "      <th>msrp</th>\n",
       "    </tr>\n",
       "  </thead>\n",
       "  <tbody>\n",
       "    <tr>\n",
       "      <th>0</th>\n",
       "      <td>bmw</td>\n",
       "      <td>1_series_m</td>\n",
       "      <td>2011</td>\n",
       "      <td>335.0</td>\n",
       "      <td>6.0</td>\n",
       "      <td>manual</td>\n",
       "      <td>coupe</td>\n",
       "      <td>26</td>\n",
       "      <td>19</td>\n",
       "      <td>1</td>\n",
       "    </tr>\n",
       "    <tr>\n",
       "      <th>1</th>\n",
       "      <td>bmw</td>\n",
       "      <td>1_series</td>\n",
       "      <td>2011</td>\n",
       "      <td>300.0</td>\n",
       "      <td>6.0</td>\n",
       "      <td>manual</td>\n",
       "      <td>convertible</td>\n",
       "      <td>28</td>\n",
       "      <td>19</td>\n",
       "      <td>1</td>\n",
       "    </tr>\n",
       "    <tr>\n",
       "      <th>2</th>\n",
       "      <td>bmw</td>\n",
       "      <td>1_series</td>\n",
       "      <td>2011</td>\n",
       "      <td>300.0</td>\n",
       "      <td>6.0</td>\n",
       "      <td>manual</td>\n",
       "      <td>coupe</td>\n",
       "      <td>28</td>\n",
       "      <td>20</td>\n",
       "      <td>0</td>\n",
       "    </tr>\n",
       "    <tr>\n",
       "      <th>3</th>\n",
       "      <td>bmw</td>\n",
       "      <td>1_series</td>\n",
       "      <td>2011</td>\n",
       "      <td>230.0</td>\n",
       "      <td>6.0</td>\n",
       "      <td>manual</td>\n",
       "      <td>coupe</td>\n",
       "      <td>28</td>\n",
       "      <td>18</td>\n",
       "      <td>0</td>\n",
       "    </tr>\n",
       "    <tr>\n",
       "      <th>4</th>\n",
       "      <td>bmw</td>\n",
       "      <td>1_series</td>\n",
       "      <td>2011</td>\n",
       "      <td>230.0</td>\n",
       "      <td>6.0</td>\n",
       "      <td>manual</td>\n",
       "      <td>convertible</td>\n",
       "      <td>28</td>\n",
       "      <td>18</td>\n",
       "      <td>0</td>\n",
       "    </tr>\n",
       "  </tbody>\n",
       "</table>\n",
       "</div>"
      ],
      "text/plain": [
       "  make       model  year  engine_hp  engine_cylinders transmission_type  \\\n",
       "0  bmw  1_series_m  2011      335.0               6.0            manual   \n",
       "1  bmw    1_series  2011      300.0               6.0            manual   \n",
       "2  bmw    1_series  2011      300.0               6.0            manual   \n",
       "3  bmw    1_series  2011      230.0               6.0            manual   \n",
       "4  bmw    1_series  2011      230.0               6.0            manual   \n",
       "\n",
       "  vehicle_style  highway_mpg  city_mpg  msrp  \n",
       "0         coupe           26        19     1  \n",
       "1   convertible           28        19     1  \n",
       "2         coupe           28        20     0  \n",
       "3         coupe           28        18     0  \n",
       "4   convertible           28        18     0  "
      ]
     },
     "execution_count": 3,
     "metadata": {},
     "output_type": "execute_result"
    }
   ],
   "source": [
    "#@ Data preparation\n",
    "data.columns = data.columns.str.lower().str.replace(' ', '_')\n",
    "\n",
    "for col in list((data.dtypes[data.dtypes == 'object']).index):\n",
    "    data[col] = data[col].str.lower().str.replace(' ', '_')\n",
    "    \n",
    "average_msrp = data['msrp'].mean()\n",
    "data['msrp'] = (data['msrp'] >= average_msrp).astype(int)\n",
    "\n",
    "data = data.fillna(0)\n",
    "data.head()"
   ]
  },
  {
   "cell_type": "code",
   "execution_count": 4,
   "id": "426ab22b",
   "metadata": {},
   "outputs": [],
   "source": [
    "#@ splitting the dataset\n",
    "df_full_train, df_test = train_test_split(data, test_size=0.2, random_state=1)\n",
    "df_train, df_val = train_test_split(df_full_train, test_size=0.25, random_state=1)\n",
    "\n",
    "y_train = df_train['msrp'].values\n",
    "y_val = df_val['msrp'].values\n",
    "y_test = df_test['msrp'].values\n",
    "\n",
    "del df_train['msrp']\n",
    "del df_val['msrp']\n",
    "del df_test['msrp']\n",
    "\n",
    "df_train = df_train.reset_index(drop=True)\n",
    "df_val = df_val.reset_index(drop=True)\n",
    "df_test = df_test.reset_index(drop=True)"
   ]
  },
  {
   "cell_type": "markdown",
   "id": "a592a201",
   "metadata": {},
   "source": [
    "# Q1"
   ]
  },
  {
   "cell_type": "code",
   "execution_count": 5,
   "id": "25fa7b37",
   "metadata": {},
   "outputs": [
    {
     "name": "stdout",
     "output_type": "stream",
     "text": [
      "year  ->  0.687551492804683\n",
      "engine_hp  ->  0.9171031265539011\n",
      "engine_cylinders  ->  0.766116490165669\n",
      "highway_mpg  ->  0.6330587871772013\n",
      "city_mpg  ->  0.6734244643245233\n"
     ]
    }
   ],
   "source": [
    "#@ computing auc_score of all numerical columns against the msrp\n",
    "numerical = ['year', 'engine_hp', 'engine_cylinders', 'highway_mpg', 'city_mpg']\n",
    "for col in numerical:\n",
    "    auc_score = roc_auc_score(y_train, df_train[col])\n",
    "    if auc_score < 0.5:\n",
    "        auc_score = roc_auc_score(y_train, -df_train[col])\n",
    "        \n",
    "    print(col,' -> ',auc_score)"
   ]
  },
  {
   "cell_type": "markdown",
   "id": "b8384b14",
   "metadata": {},
   "source": [
    "# Question 2: Training the model\n",
    "\n",
    "Apply one-hot-encoding using DictVectorizer and train the logistic regression with these parameters:\n",
    "\n",
    "`LogisticRegression(solver='liblinear', C=1.0, max_iter=1000)`\n",
    "\n",
    "What's the AUC of this model on the validation dataset? (round to 3 digits)\n",
    "\n",
    "    0.678\n",
    "    0.779\n",
    "    0.878\n",
    "    0.979\n"
   ]
  },
  {
   "cell_type": "code",
   "execution_count": 6,
   "id": "09c25816",
   "metadata": {},
   "outputs": [],
   "source": [
    "categorical = list((df_train.dtypes[df_train.dtypes == 'object']).index)"
   ]
  },
  {
   "cell_type": "code",
   "execution_count": 7,
   "id": "c1951dc8",
   "metadata": {},
   "outputs": [],
   "source": [
    "#@ training the model\n",
    "\n",
    "dv = DictVectorizer(sparse=False)\n",
    "model = LogisticRegression(solver='liblinear', C=1.0, max_iter=1000)\n",
    "\n",
    "train_dict = df_train[categorical+numerical].to_dict(orient='records')\n",
    "X_train = dv.fit_transform(train_dict)\n",
    "model.fit(X_train, y_train)\n",
    "\n",
    "val_dict = df_val[categorical+numerical].to_dict(orient='records')\n",
    "X_val = dv.transform(val_dict)\n",
    "y_pred = model.predict_proba(X_val)[:,1]"
   ]
  },
  {
   "cell_type": "code",
   "execution_count": 8,
   "id": "c21345bb",
   "metadata": {},
   "outputs": [
    {
     "data": {
      "text/plain": [
       "0.9765734024546191"
      ]
     },
     "execution_count": 8,
     "metadata": {},
     "output_type": "execute_result"
    }
   ],
   "source": [
    "roc_auc_score(y_val, y_pred)"
   ]
  },
  {
   "cell_type": "markdown",
   "id": "f51fcaba",
   "metadata": {},
   "source": [
    "# Question 3: Precision and Recall\n",
    "\n",
    "Now let's compute precision and recall for our model.\n",
    "\n",
    "    Evaluate the model on all thresholds from 0.0 to 1.0 with step 0.01\n",
    "    For each threshold, compute precision and recall\n",
    "    Plot them\n",
    "\n",
    "At which threshold precision and recall curves intersect?\n",
    "\n",
    "    0.28\n",
    "    0.48\n",
    "    0.68\n",
    "    0.88\n"
   ]
  },
  {
   "cell_type": "code",
   "execution_count": 9,
   "id": "225dc598",
   "metadata": {},
   "outputs": [],
   "source": [
    "def confusion_matrix(actual, predicted):\n",
    "    threshold = np.arange(0.1, 1.0, 0.01)\n",
    "    scores = []\n",
    "    \n",
    "    for t in threshold:\n",
    "        actual_positive = (y_val == 1)\n",
    "        actual_negative = (y_val == 0)\n",
    "        predicted_positive = (y_pred >= t)\n",
    "        predicted_negative = (y_pred < t)\n",
    "\n",
    "        true_positive = (actual_positive & predicted_positive).sum()\n",
    "        true_negative = (actual_negative & predicted_negative).sum()\n",
    "        false_positive = (actual_negative & predicted_positive).sum()\n",
    "        false_negative = (actual_positive & predicted_negative).sum()\n",
    "        \n",
    "        precision = true_positive/(true_positive + false_positive)\n",
    "        recall = true_positive/(true_positive + false_negative)\n",
    "        \n",
    "        scores.append((t,true_negative,true_positive,false_negative,\n",
    "                       false_positive, precision, recall))\n",
    "        \n",
    "    cols = ['threshold','true_negative','true_positive','false_negative',\n",
    "            'false_positive', 'precision', 'recall']\n",
    "    df_scores = pd.DataFrame(scores,columns=cols)\n",
    "\n",
    "    return df_scores"
   ]
  },
  {
   "cell_type": "code",
   "execution_count": 10,
   "id": "82435320",
   "metadata": {},
   "outputs": [
    {
     "data": {
      "image/png": "[encoded data removed]",
      "text/plain": [
       "<Figure size 300x300 with 1 Axes>"
      ]
     },
     "metadata": {},
     "output_type": "display_data"
    }
   ],
   "source": [
    "df_scores = confusion_matrix(y_val, y_pred)\n",
    "\n",
    "plt.figure(figsize=((3,3)))\n",
    "plt.plot(df_scores['threshold'], df_scores['precision'], label='precision', color='Black')\n",
    "plt.plot(df_scores['threshold'], df_scores['recall'], label='recall', color='Red')\n",
    "plt.legend()\n",
    "plt.show()"
   ]
  },
  {
   "cell_type": "markdown",
   "id": "8484e80f",
   "metadata": {},
   "source": [
    "# Question 4: F1 score\n",
    "\n",
    "Precision and recall are conflicting - when one grows, the other goes down. That's why they are often combined into the F1 score - a metrics that takes into account both\n",
    "\n",
    "This is the formula for computing F1:\n",
    "\n",
    "$$F_1 = 2 \\cdot \\cfrac{P \\cdot R}{P + R}$$\n",
    "\n",
    "Where $P$ is precision and $R$ is recall.\n",
    "\n",
    "Let's compute F1 for all thresholds from 0.0 to 1.0 with increment 0.01\n",
    "\n",
    "At which threshold F1 is maximal?\n",
    "\n",
    "- 0.12\n",
    "- 0.32\n",
    "- 0.52\n",
    "- 0.72"
   ]
  },
  {
   "cell_type": "code",
   "execution_count": 11,
   "id": "6c2e72cb",
   "metadata": {},
   "outputs": [
    {
     "data": {
      "text/html": [
       "<div>\n",
       "<style scoped>\n",
       "    .dataframe tbody tr th:only-of-type {\n",
       "        vertical-align: middle;\n",
       "    }\n",
       "\n",
       "    .dataframe tbody tr th {\n",
       "        vertical-align: top;\n",
       "    }\n",
       "\n",
       "    .dataframe thead th {\n",
       "        text-align: right;\n",
       "    }\n",
       "</style>\n",
       "<table border=\"1\" class=\"dataframe\">\n",
       "  <thead>\n",
       "    <tr style=\"text-align: right;\">\n",
       "      <th></th>\n",
       "      <th>threshold</th>\n",
       "      <th>true_negative</th>\n",
       "      <th>true_positive</th>\n",
       "      <th>false_negative</th>\n",
       "      <th>false_positive</th>\n",
       "      <th>precision</th>\n",
       "      <th>recall</th>\n",
       "      <th>f1_score</th>\n",
       "    </tr>\n",
       "  </thead>\n",
       "  <tbody>\n",
       "    <tr>\n",
       "      <th>40</th>\n",
       "      <td>0.5</td>\n",
       "      <td>1653</td>\n",
       "      <td>567</td>\n",
       "      <td>87</td>\n",
       "      <td>76</td>\n",
       "      <td>0.881804</td>\n",
       "      <td>0.866972</td>\n",
       "      <td>0.874325</td>\n",
       "    </tr>\n",
       "  </tbody>\n",
       "</table>\n",
       "</div>"
      ],
      "text/plain": [
       "    threshold  true_negative  true_positive  false_negative  false_positive  \\\n",
       "40        0.5           1653            567              87              76   \n",
       "\n",
       "    precision    recall  f1_score  \n",
       "40   0.881804  0.866972  0.874325  "
      ]
     },
     "execution_count": 11,
     "metadata": {},
     "output_type": "execute_result"
    }
   ],
   "source": [
    "df_scores['f1_score'] = 2 *( (df_scores.precision * df_scores.recall) / (df_scores.precision + df_scores.recall) )\n",
    "df_scores[df_scores.f1_score == df_scores.f1_score.max()]"
   ]
  },
  {
   "cell_type": "code",
   "execution_count": 12,
   "id": "188fe6dc",
   "metadata": {},
   "outputs": [
    {
     "data": {
      "image/png": "[encoded data removed]",
      "text/plain": [
       "<Figure size 300x300 with 1 Axes>"
      ]
     },
     "metadata": {},
     "output_type": "display_data"
    }
   ],
   "source": [
    "#@ visualizing the peak f1_score\n",
    "\n",
    "plt.figure(figsize=((3,3)))\n",
    "plt.plot(df_scores['threshold'], df_scores['f1_score'], label='f1_score', color='Black')\n",
    "plt.legend()\n",
    "plt.show()"
   ]
  },
  {
   "cell_type": "markdown",
   "id": "fbc928b4",
   "metadata": {},
   "source": [
    "# Question 5: 5-Fold CV\n",
    "\n",
    "\n",
    "Use the `KFold` class from Scikit-Learn to evaluate our model on 5 different folds:\n",
    "\n",
    "```\n",
    "KFold(n_splits=5, shuffle=True, random_state=1)\n",
    "```\n",
    "\n",
    "* Iterate over different folds of `df_full_train`\n",
    "* Split the data into train and validation\n",
    "* Train the model on train with these parameters: `LogisticRegression(solver='liblinear', C=1.0, max_iter=1000)`\n",
    "* Use AUC to evaluate the model on validation\n",
    "\n",
    "How large is standard devidation of the scores across different folds?\n",
    "\n",
    "- 0.003\n",
    "- 0.030\n",
    "- 0.090\n",
    "- 0.140"
   ]
  },
  {
   "cell_type": "code",
   "execution_count": 13,
   "id": "95356355",
   "metadata": {},
   "outputs": [],
   "source": [
    "def train(series, target, C):\n",
    "    dv = DictVectorizer(sparse=False)\n",
    "    series_dict = series.to_dict(orient='records')\n",
    "    X = dv.fit_transform(series_dict)\n",
    "    model = LogisticRegression(solver='liblinear', C=C, max_iter=1000)\n",
    "    model.fit(X, target)\n",
    "    \n",
    "    return dv, model\n",
    "\n",
    "def predict(dv, model, series):\n",
    "    series_dict = series.to_dict(orient='records')\n",
    "    X = dv.transform(series_dict)\n",
    "    y_pred = model.predict_proba(X)[:,1]\n",
    "    return y_pred"
   ]
  },
  {
   "cell_type": "code",
   "execution_count": 14,
   "id": "887d4957",
   "metadata": {},
   "outputs": [
    {
     "data": {
      "application/vnd.jupyter.widget-view+json": {
       "model_id": "c1ee7a376d564fff9d29b60b9cd48954",
       "version_major": 2,
       "version_minor": 0
      },
      "text/plain": [
       "0it [00:00, ?it/s]"
      ]
     },
     "metadata": {},
     "output_type": "display_data"
    }
   ],
   "source": [
    "kfold = KFold(n_splits=5, shuffle=True, random_state=1)\n",
    "scores = []\n",
    "\n",
    "for train_idx, val_idx in tqdm(kfold.split(df_full_train)):\n",
    "    df_train = df_full_train.iloc[train_idx]\n",
    "    df_val = df_full_train.iloc[val_idx]\n",
    "    \n",
    "    y_train = df_train['msrp'].values\n",
    "    y_val = df_val['msrp'].values\n",
    "    \n",
    "    del df_train['msrp']\n",
    "    del df_val['msrp']\n",
    "    \n",
    "    dv, model = train(df_train, y_train, C= 1.0)\n",
    "    y_pred = predict(dv, model, df_val)\n",
    "    \n",
    "    auc_score = roc_auc_score(y_val, y_pred)\n",
    "    \n",
    "    scores.append(auc_score)"
   ]
  },
  {
   "cell_type": "code",
   "execution_count": 15,
   "id": "1120798c",
   "metadata": {},
   "outputs": [
    {
     "data": {
      "text/plain": [
       "0.003025194365282419"
      ]
     },
     "execution_count": 15,
     "metadata": {},
     "output_type": "execute_result"
    }
   ],
   "source": [
    "np.std(scores)"
   ]
  },
  {
   "cell_type": "markdown",
   "id": "7238e290",
   "metadata": {},
   "source": [
    "# Question 6: Hyperparemeter Tuning\n",
    "\n",
    "Now let's use 5-Fold cross-validation to find the best parameter `C`\n",
    "\n",
    "* Iterate over the following `C` values: `[0.01, 0.1, 0.5, 10]`\n",
    "* Initialize `KFold` with the same parameters as previously\n",
    "* Use these parametes for the model: `LogisticRegression(solver='liblinear', C=C, max_iter=1000)`\n",
    "* Compute the mean score as well as the std (round the mean and std to 3 decimal digits)\n",
    "\n",
    "Which `C` leads to the best mean score?\n",
    "\n",
    "- 0.01\n",
    "- 0.1\n",
    "- 0.5\n",
    "- 10\n",
    "\n",
    "If you have ties, select the score with the lowest std. If you still have ties, select the smallest `C`."
   ]
  },
  {
   "cell_type": "code",
   "execution_count": 16,
   "id": "500961f4",
   "metadata": {},
   "outputs": [
    {
     "data": {
      "application/vnd.jupyter.widget-view+json": {
       "model_id": "65ca58fd7f3f43d897594da8eb4132e0",
       "version_major": 2,
       "version_minor": 0
      },
      "text/plain": [
       "  0%|          | 0/4 [00:00<?, ?it/s]"
      ]
     },
     "metadata": {},
     "output_type": "display_data"
    },
    {
     "name": "stdout",
     "output_type": "stream",
     "text": [
      "C: 0.010 --> AUC: 0.95024 | Mean: 0.481 | Std: 0.471\n",
      "C: 0.100 --> AUC: 0.97338 | Mean: 0.536 | Std: 0.436\n",
      "C: 0.500 --> AUC: 0.97771 | Mean: 0.740 | Std: 0.240\n",
      "C: 10.000 --> AUC: 0.98772 | Mean: 5.492 | Std: 4.508\n"
     ]
    }
   ],
   "source": [
    "for C in tqdm([0.01, 0.1, 0.5, 10]):\n",
    "    kfold = KFold(n_splits=5, shuffle=True, random_state=1)\n",
    "    scores = []\n",
    "\n",
    "    for train_idx, val_idx in kfold.split(df_full_train):\n",
    "        df_train = df_full_train.iloc[train_idx]\n",
    "        df_val = df_full_train.iloc[val_idx]\n",
    "\n",
    "        y_train = df_train['msrp'].values\n",
    "        y_val = df_val['msrp'].values\n",
    "\n",
    "        del df_train['msrp']\n",
    "        del df_val['msrp']\n",
    "\n",
    "        dv, model = train(df_train, y_train, C)\n",
    "        y_pred = predict(dv, model, df_val)\n",
    "\n",
    "        auc_score = roc_auc_score(y_val, y_pred)\n",
    "\n",
    "\n",
    "        scores.append((C, auc_score))\n",
    "        \n",
    "        \n",
    "    print('C: %.3f --> AUC: %.5f | Mean: %.3f | Std: %.3f'%(C, auc_score, np.mean(scores), np.std(scores)) )"
   ]
  }
 ],
 "metadata": {
  "kernelspec": {
   "display_name": "Python 3 (ipykernel)",
   "language": "python",
   "name": "python3"
  },
  "language_info": {
   "codemirror_mode": {
    "name": "ipython",
    "version": 3
   },
   "file_extension": ".py",
   "mimetype": "text/x-python",
   "name": "python",
   "nbconvert_exporter": "python",
   "pygments_lexer": "ipython3",
   "version": "3.10.12"
  }
 },
 "nbformat": 4,
 "nbformat_minor": 5
}
