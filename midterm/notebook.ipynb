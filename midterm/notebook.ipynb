{
 "cells": [
  {
   "cell_type": "code",
   "execution_count": 1,
   "id": "cf54493e",
   "metadata": {},
   "outputs": [],
   "source": [
    "import numpy as np\n",
    "import pandas as pd\n",
    "import seaborn as sns\n",
    "import matplotlib.pyplot as plt\n",
    "\n",
    "from xgboost import XGBClassifier\n",
    "from sklearn.ensemble import RandomForestClassifier\n",
    "from sklearn.feature_extraction import DictVectorizer\n",
    "from sklearn.metrics import mutual_info_score, confusion_matrix, f1_score\n",
    "from sklearn.model_selection import train_test_split, RandomizedSearchCV, GridSearchCV"
   ]
  },
  {
   "cell_type": "markdown",
   "id": "c283b5cb",
   "metadata": {},
   "source": [
    "# Reading the data"
   ]
  },
  {
   "cell_type": "code",
   "execution_count": 2,
   "id": "e8fcb560",
   "metadata": {},
   "outputs": [],
   "source": [
    "data  = pd.read_csv('Datasets/Breast_Cancer.csv')"
   ]
  },
  {
   "cell_type": "markdown",
   "id": "a6c296cb",
   "metadata": {},
   "source": [
    "# EDA & Feature Engineering"
   ]
  },
  {
   "cell_type": "code",
   "execution_count": 3,
   "id": "23343f2d",
   "metadata": {
    "scrolled": false
   },
   "outputs": [
    {
     "data": {
      "text/html": [
       "<div>\n",
       "<style scoped>\n",
       "    .dataframe tbody tr th:only-of-type {\n",
       "        vertical-align: middle;\n",
       "    }\n",
       "\n",
       "    .dataframe tbody tr th {\n",
       "        vertical-align: top;\n",
       "    }\n",
       "\n",
       "    .dataframe thead th {\n",
       "        text-align: right;\n",
       "    }\n",
       "</style>\n",
       "<table border=\"1\" class=\"dataframe\">\n",
       "  <thead>\n",
       "    <tr style=\"text-align: right;\">\n",
       "      <th></th>\n",
       "      <th>Age</th>\n",
       "      <th>Tumor Size</th>\n",
       "      <th>Regional Node Examined</th>\n",
       "      <th>Reginol Node Positive</th>\n",
       "      <th>Survival Months</th>\n",
       "    </tr>\n",
       "  </thead>\n",
       "  <tbody>\n",
       "    <tr>\n",
       "      <th>count</th>\n",
       "      <td>4024.000000</td>\n",
       "      <td>4024.000000</td>\n",
       "      <td>4024.000000</td>\n",
       "      <td>4024.000000</td>\n",
       "      <td>4024.000000</td>\n",
       "    </tr>\n",
       "    <tr>\n",
       "      <th>mean</th>\n",
       "      <td>53.972167</td>\n",
       "      <td>30.473658</td>\n",
       "      <td>14.357107</td>\n",
       "      <td>4.158052</td>\n",
       "      <td>71.297962</td>\n",
       "    </tr>\n",
       "    <tr>\n",
       "      <th>std</th>\n",
       "      <td>8.963134</td>\n",
       "      <td>21.119696</td>\n",
       "      <td>8.099675</td>\n",
       "      <td>5.109331</td>\n",
       "      <td>22.921430</td>\n",
       "    </tr>\n",
       "    <tr>\n",
       "      <th>min</th>\n",
       "      <td>30.000000</td>\n",
       "      <td>1.000000</td>\n",
       "      <td>1.000000</td>\n",
       "      <td>1.000000</td>\n",
       "      <td>1.000000</td>\n",
       "    </tr>\n",
       "    <tr>\n",
       "      <th>25%</th>\n",
       "      <td>47.000000</td>\n",
       "      <td>16.000000</td>\n",
       "      <td>9.000000</td>\n",
       "      <td>1.000000</td>\n",
       "      <td>56.000000</td>\n",
       "    </tr>\n",
       "    <tr>\n",
       "      <th>50%</th>\n",
       "      <td>54.000000</td>\n",
       "      <td>25.000000</td>\n",
       "      <td>14.000000</td>\n",
       "      <td>2.000000</td>\n",
       "      <td>73.000000</td>\n",
       "    </tr>\n",
       "    <tr>\n",
       "      <th>75%</th>\n",
       "      <td>61.000000</td>\n",
       "      <td>38.000000</td>\n",
       "      <td>19.000000</td>\n",
       "      <td>5.000000</td>\n",
       "      <td>90.000000</td>\n",
       "    </tr>\n",
       "    <tr>\n",
       "      <th>max</th>\n",
       "      <td>69.000000</td>\n",
       "      <td>140.000000</td>\n",
       "      <td>61.000000</td>\n",
       "      <td>46.000000</td>\n",
       "      <td>107.000000</td>\n",
       "    </tr>\n",
       "  </tbody>\n",
       "</table>\n",
       "</div>"
      ],
      "text/plain": [
       "               Age   Tumor Size  Regional Node Examined  \\\n",
       "count  4024.000000  4024.000000             4024.000000   \n",
       "mean     53.972167    30.473658               14.357107   \n",
       "std       8.963134    21.119696                8.099675   \n",
       "min      30.000000     1.000000                1.000000   \n",
       "25%      47.000000    16.000000                9.000000   \n",
       "50%      54.000000    25.000000               14.000000   \n",
       "75%      61.000000    38.000000               19.000000   \n",
       "max      69.000000   140.000000               61.000000   \n",
       "\n",
       "       Reginol Node Positive  Survival Months  \n",
       "count            4024.000000      4024.000000  \n",
       "mean                4.158052        71.297962  \n",
       "std                 5.109331        22.921430  \n",
       "min                 1.000000         1.000000  \n",
       "25%                 1.000000        56.000000  \n",
       "50%                 2.000000        73.000000  \n",
       "75%                 5.000000        90.000000  \n",
       "max                46.000000       107.000000  "
      ]
     },
     "execution_count": 3,
     "metadata": {},
     "output_type": "execute_result"
    }
   ],
   "source": [
    "#@ analysis of numerical variables\n",
    "data.describe()"
   ]
  },
  {
   "cell_type": "code",
   "execution_count": 4,
   "id": "2483abd6",
   "metadata": {
    "scrolled": true
   },
   "outputs": [
    {
     "data": {
      "text/html": [
       "<div>\n",
       "<style scoped>\n",
       "    .dataframe tbody tr th:only-of-type {\n",
       "        vertical-align: middle;\n",
       "    }\n",
       "\n",
       "    .dataframe tbody tr th {\n",
       "        vertical-align: top;\n",
       "    }\n",
       "\n",
       "    .dataframe thead th {\n",
       "        text-align: right;\n",
       "    }\n",
       "</style>\n",
       "<table border=\"1\" class=\"dataframe\">\n",
       "  <thead>\n",
       "    <tr style=\"text-align: right;\">\n",
       "      <th></th>\n",
       "      <th>Race</th>\n",
       "      <th>Marital Status</th>\n",
       "      <th>T Stage</th>\n",
       "      <th>N Stage</th>\n",
       "      <th>6th Stage</th>\n",
       "      <th>differentiate</th>\n",
       "      <th>Grade</th>\n",
       "      <th>A Stage</th>\n",
       "      <th>Estrogen Status</th>\n",
       "      <th>Progesterone Status</th>\n",
       "      <th>Status</th>\n",
       "    </tr>\n",
       "  </thead>\n",
       "  <tbody>\n",
       "    <tr>\n",
       "      <th>count</th>\n",
       "      <td>4024</td>\n",
       "      <td>4024</td>\n",
       "      <td>4024</td>\n",
       "      <td>4024</td>\n",
       "      <td>4024</td>\n",
       "      <td>4024</td>\n",
       "      <td>4024</td>\n",
       "      <td>4024</td>\n",
       "      <td>4024</td>\n",
       "      <td>4024</td>\n",
       "      <td>4024</td>\n",
       "    </tr>\n",
       "    <tr>\n",
       "      <th>unique</th>\n",
       "      <td>3</td>\n",
       "      <td>5</td>\n",
       "      <td>4</td>\n",
       "      <td>3</td>\n",
       "      <td>5</td>\n",
       "      <td>4</td>\n",
       "      <td>4</td>\n",
       "      <td>2</td>\n",
       "      <td>2</td>\n",
       "      <td>2</td>\n",
       "      <td>2</td>\n",
       "    </tr>\n",
       "    <tr>\n",
       "      <th>top</th>\n",
       "      <td>White</td>\n",
       "      <td>Married</td>\n",
       "      <td>T2</td>\n",
       "      <td>N1</td>\n",
       "      <td>IIA</td>\n",
       "      <td>Moderately differentiated</td>\n",
       "      <td>2</td>\n",
       "      <td>Regional</td>\n",
       "      <td>Positive</td>\n",
       "      <td>Positive</td>\n",
       "      <td>Alive</td>\n",
       "    </tr>\n",
       "    <tr>\n",
       "      <th>freq</th>\n",
       "      <td>3413</td>\n",
       "      <td>2643</td>\n",
       "      <td>1786</td>\n",
       "      <td>2732</td>\n",
       "      <td>1305</td>\n",
       "      <td>2351</td>\n",
       "      <td>2351</td>\n",
       "      <td>3932</td>\n",
       "      <td>3755</td>\n",
       "      <td>3326</td>\n",
       "      <td>3408</td>\n",
       "    </tr>\n",
       "  </tbody>\n",
       "</table>\n",
       "</div>"
      ],
      "text/plain": [
       "         Race Marital Status T Stage  N Stage 6th Stage  \\\n",
       "count    4024           4024     4024    4024      4024   \n",
       "unique      3              5        4       3         5   \n",
       "top     White        Married       T2      N1       IIA   \n",
       "freq     3413           2643     1786    2732      1305   \n",
       "\n",
       "                    differentiate Grade   A Stage Estrogen Status  \\\n",
       "count                        4024  4024      4024            4024   \n",
       "unique                          4     4         2               2   \n",
       "top     Moderately differentiated     2  Regional        Positive   \n",
       "freq                         2351  2351      3932            3755   \n",
       "\n",
       "       Progesterone Status Status  \n",
       "count                 4024   4024  \n",
       "unique                   2      2  \n",
       "top               Positive  Alive  \n",
       "freq                  3326   3408  "
      ]
     },
     "execution_count": 4,
     "metadata": {},
     "output_type": "execute_result"
    }
   ],
   "source": [
    "#@ analysis of categorical variables\n",
    "data.describe(include='object')"
   ]
  },
  {
   "cell_type": "code",
   "execution_count": 5,
   "id": "58b4685f",
   "metadata": {},
   "outputs": [
    {
     "data": {
      "text/plain": [
       "Age                       0\n",
       "Race                      0\n",
       "Marital Status            0\n",
       "T Stage                   0\n",
       "N Stage                   0\n",
       "6th Stage                 0\n",
       "differentiate             0\n",
       "Grade                     0\n",
       "A Stage                   0\n",
       "Tumor Size                0\n",
       "Estrogen Status           0\n",
       "Progesterone Status       0\n",
       "Regional Node Examined    0\n",
       "Reginol Node Positive     0\n",
       "Survival Months           0\n",
       "Status                    0\n",
       "dtype: int64"
      ]
     },
     "execution_count": 5,
     "metadata": {},
     "output_type": "execute_result"
    }
   ],
   "source": [
    "#@ checking for missing values\n",
    "data.isna().sum()"
   ]
  },
  {
   "cell_type": "code",
   "execution_count": 6,
   "id": "d172502e",
   "metadata": {
    "scrolled": true
   },
   "outputs": [
    {
     "data": {
      "text/plain": [
       "Status\n",
       "Alive    0.846918\n",
       "Dead     0.153082\n",
       "Name: proportion, dtype: float64"
      ]
     },
     "execution_count": 6,
     "metadata": {},
     "output_type": "execute_result"
    }
   ],
   "source": [
    "#@ target variable distribution\n",
    "target_class = data['Status']\n",
    "target_class.value_counts(normalize=True)"
   ]
  },
  {
   "cell_type": "markdown",
   "id": "ad48d48c",
   "metadata": {},
   "source": [
    "#@ data appears to be imbalanced"
   ]
  },
  {
   "cell_type": "code",
   "execution_count": 7,
   "id": "c1c1c00b",
   "metadata": {},
   "outputs": [],
   "source": [
    "#@ data cleaning\n",
    "\n",
    "df = data.copy()\n",
    "df = df.rename(columns={'Reginol Node Positive':'regional_node_positive'})\n",
    "df.columns = df.columns.str.lower().str.strip(' ').str.replace(' ', '_')\n",
    "\n",
    "categorical = list(df.dtypes[df.dtypes=='object'].index)\n",
    "numerical = list(df.dtypes[df.dtypes!='object'].index)\n",
    "\n",
    "for col in categorical:\n",
    "    df[col] = df[col].str.lower().str.replace(' ', '_')\n",
    "    \n",
    "df['status'] = (df['status']=='dead').astype(int)\n",
    "\n",
    "categorical.remove('status')"
   ]
  },
  {
   "cell_type": "code",
   "execution_count": 8,
   "id": "8b14cb2f",
   "metadata": {},
   "outputs": [],
   "source": [
    "#@ splitting the data 60:20:20\n",
    "\n",
    "y = df['status'].values\n",
    "df_full, df_test, y_full, y_test = train_test_split(df, y, test_size=0.2, stratify=y, random_state=1)\n",
    "df_train, df_val, y_train, y_val = train_test_split(df_full, y_full, test_size=0.25, stratify=y_full, random_state=1)\n",
    "\n",
    "df_val = df_val.reset_index(drop=True)\n",
    "df_train = df_train.reset_index(drop=True)\n",
    "df_full = df_full.reset_index(drop=True)\n",
    "\n",
    "del df_train['status']\n",
    "del df_val['status']\n",
    "\n",
    "for i in [df_train, df_val]:\n",
    "    assert 'status' not in list(i.columns)"
   ]
  },
  {
   "cell_type": "code",
   "execution_count": 9,
   "id": "9bfb3335",
   "metadata": {},
   "outputs": [],
   "source": [
    "size_mapping = {\n",
    "    't1': 'Small',\n",
    "    't2': 'Medium',\n",
    "    't3': 'Medium',\n",
    "    't4': 'Large'\n",
    "}\n",
    "    \n",
    "age_group = {\n",
    "    (0, 30): 'young',\n",
    "    (30, 59): 'middle_aged',\n",
    "    (59, 150): 'senior'\n",
    "}"
   ]
  },
  {
   "cell_type": "code",
   "execution_count": 10,
   "id": "3b30d6cb",
   "metadata": {},
   "outputs": [],
   "source": [
    "#@ Feature Engineering\n",
    "def map_age_to_group(age):\n",
    "    for age_range, group in age_group.items():\n",
    "        if age_range[0] <= age <= age_range[1]:\n",
    "            return group\n",
    "    return 'unknown'\n",
    "\n",
    "def feature_engineer(series):\n",
    "# classification of patient ages\n",
    "    series['age_group'] = series['age'].apply(map_age_to_group)\n",
    "    \n",
    "# classification of cancer sizes\n",
    "    series['size_classification'] = series['t_stage'].map(size_mapping)\n",
    "    \n",
    "# lymph node positivity rate: extent or severity of lymph node involvement in breast cancer.\n",
    "    series['lymph_node_positivity_%'] = (series['regional_node_positive'] / series['regional_node_examined'])*100\n",
    "    \n",
    "    return series"
   ]
  },
  {
   "cell_type": "code",
   "execution_count": 11,
   "id": "acb43362",
   "metadata": {},
   "outputs": [],
   "source": [
    "full_df = feature_engineer(df_full)\n",
    "\n",
    "categorical = list(df_full.dtypes[df_full.dtypes=='object'].index)\n",
    "numerical = list(df_full.dtypes[df_full.dtypes!='object'].index)"
   ]
  },
  {
   "cell_type": "code",
   "execution_count": 12,
   "id": "9207c9ec",
   "metadata": {},
   "outputs": [
    {
     "data": {
      "text/plain": [
       "age                        0.042878\n",
       "tumor_size                 0.147107\n",
       "regional_node_examined     0.033861\n",
       "regional_node_positive     0.256966\n",
       "survival_months           -0.479545\n",
       "status                     1.000000\n",
       "lymph_node_positivity_%    0.244568\n",
       "dtype: float64"
      ]
     },
     "execution_count": 12,
     "metadata": {},
     "output_type": "execute_result"
    }
   ],
   "source": [
    "#@ correaltion of numerical variables with the target variable\n",
    "full_df[numerical].corrwith(df_full['status'])"
   ]
  },
  {
   "cell_type": "code",
   "execution_count": 13,
   "id": "01986314",
   "metadata": {},
   "outputs": [],
   "source": [
    "#@ mutual information score between the categorical variables and target variable\n",
    "def mis(series):\n",
    "    return mutual_info_score(series, full_df['status'])"
   ]
  },
  {
   "cell_type": "code",
   "execution_count": 14,
   "id": "d56c35f5",
   "metadata": {},
   "outputs": [
    {
     "data": {
      "text/plain": [
       "race                   0.002943\n",
       "marital_status         0.002331\n",
       "t_stage                0.012222\n",
       "n_stage                0.031615\n",
       "6th_stage              0.033148\n",
       "differentiate          0.012242\n",
       "grade                  0.012242\n",
       "a_stage                0.003268\n",
       "estrogen_status        0.013337\n",
       "progesterone_status    0.012716\n",
       "age_group              0.002058\n",
       "size_classification    0.011642\n",
       "dtype: float64"
      ]
     },
     "execution_count": 14,
     "metadata": {},
     "output_type": "execute_result"
    }
   ],
   "source": [
    "full_df[categorical].apply(mis)"
   ]
  },
  {
   "cell_type": "code",
   "execution_count": 15,
   "id": "d8508fe5",
   "metadata": {},
   "outputs": [],
   "source": [
    "#@ Baseline Features\n",
    "base_features = sorted([\n",
    "    'regional_node_examined',\n",
    "    'regional_node_positive',\n",
    "    'survival_months',\n",
    "    'lymph_node_positivity_%',\n",
    "    'race',\n",
    "    'marital_status',\n",
    "    't_stage',\n",
    "    'n_stage',\n",
    "    '6th_stage',\n",
    "    'differentiate',\n",
    "    'grade',\n",
    "    'a_stage',\n",
    "    'estrogen_status',\n",
    "    'progesterone_status',\n",
    "    'age_group',\n",
    "    'size_classification'\n",
    "])"
   ]
  },
  {
   "cell_type": "code",
   "execution_count": 16,
   "id": "f44e6725",
   "metadata": {},
   "outputs": [],
   "source": [
    "def prepare_df(df):\n",
    "    new_df = df.copy()\n",
    "    new_df = feature_engineer(new_df)\n",
    "    new_df = new_df[base_features]\n",
    "    \n",
    "    return new_df"
   ]
  },
  {
   "cell_type": "code",
   "execution_count": 17,
   "id": "a17966c4",
   "metadata": {},
   "outputs": [],
   "source": [
    "train_df = prepare_df(df_train)\n",
    "val_df = prepare_df(df_val)\n",
    "test_df = prepare_df(df_test)\n",
    "full_df = prepare_df(df_full)"
   ]
  },
  {
   "cell_type": "code",
   "execution_count": 18,
   "id": "75f96a3e",
   "metadata": {},
   "outputs": [],
   "source": [
    "#@ function to train model\n",
    "def train(X, y, model):\n",
    "    dv = DictVectorizer(sparse=False)\n",
    "    \n",
    "    X_dicts = X.to_dict(orient='records')\n",
    "    X = dv.fit_transform(X_dicts)\n",
    "   \n",
    "    model.fit(X, y)\n",
    "    \n",
    "    return (model, dv)\n",
    "\n",
    "\n",
    "#@ function to return precision and recall\n",
    "def precision_recall(actual, predicted):\n",
    "    conf_matrix = confusion_matrix(actual, predicted)\n",
    "    tp = conf_matrix[0, 0]\n",
    "    fp = conf_matrix[0, 1]\n",
    "    fn = conf_matrix[1, 0]\n",
    "    tn = conf_matrix[1, 1]\n",
    "\n",
    "    precision = tp / (tp + fp)\n",
    "    recall = tp / (tp + fn)\n",
    "\n",
    "    return (precision, recall)\n",
    "\n",
    "#! function making predictions\n",
    "def predict(df, model, dv):\n",
    "    x_dict = df.to_dict(orient='records')\n",
    "    X = dv.transform(x_dict)\n",
    "    \n",
    "    y_pred = model.best_estimator_.predict(X)\n",
    "    \n",
    "    return y_pred"
   ]
  },
  {
   "cell_type": "markdown",
   "id": "5a77d440",
   "metadata": {},
   "source": [
    "# Model Selection"
   ]
  },
  {
   "cell_type": "code",
   "execution_count": 19,
   "id": "a5de34c6",
   "metadata": {},
   "outputs": [],
   "source": [
    "rf = RandomForestClassifier(class_weight='balanced')\n",
    "clf = XGBClassifier()"
   ]
  },
  {
   "cell_type": "code",
   "execution_count": 21,
   "id": "072e9140",
   "metadata": {},
   "outputs": [],
   "source": [
    "#@ randomforest parameters\n",
    "rf_params = {\n",
    "    'n_estimators': np.arange(150, 200, 20),\n",
    "    'max_depth': np.arange(5, 8, 2),\n",
    "    'min_samples_leaf': np.arange(1,6,1)\n",
    "    }\n",
    "#@ xgbclassifier parameters\n",
    "xgb_params = {\n",
    "    'n_estimators': np.arange(160, 220, 20),\n",
    "    'max_depth': np.arange(3, 10, 2),\n",
    "    'learning_rate': np.arange(0.1,1.0, 0.1)\n",
    "    }\n",
    "#@randomized search\n",
    "rf_search = GridSearchCV(rf, rf_params, scoring='f1', verbose=1, cv=5, n_jobs=-1)\n",
    "xgb_search = GridSearchCV(clf, xgb_params, scoring='f1', verbose=1, cv=5, n_jobs=-1)\n",
    "\n",
    "searches = {\n",
    "    'Random Forest': rf_search,\n",
    "    'XGBClassifer': xgb_search\n",
    "}"
   ]
  },
  {
   "cell_type": "code",
   "execution_count": 31,
   "id": "3cb393e9",
   "metadata": {},
   "outputs": [],
   "source": [
    "#@ custom function to compare models\n",
    "def model_comparison(df, y, val, val_y):\n",
    "    for search_name, search in searches.items():\n",
    "        model, dv = train(df, y, search)\n",
    "        y_pred = predict(val, model, dv)\n",
    "        precisonRecall = precision_recall(val_y, y_pred)\n",
    "        estimators[search_name] = model.best_estimator_\n",
    "        scores.append((model.best_estimator_, precisonRecall[0], precisonRecall[1]))\n",
    "        \n",
    "    df_scores = pd.DataFrame(scores, columns=['Model','Precision', 'Recall'])\n",
    "    df_scores.index = [x for x,y in searches.items()]\n",
    "    return df_scores"
   ]
  },
  {
   "cell_type": "markdown",
   "id": "80f8b7cb",
   "metadata": {},
   "source": [
    "## Model Comparison"
   ]
  },
  {
   "cell_type": "code",
   "execution_count": 32,
   "id": "d17124b1",
   "metadata": {},
   "outputs": [
    {
     "name": "stdout",
     "output_type": "stream",
     "text": [
      "Fitting 5 folds for each of 30 candidates, totalling 150 fits\n",
      "Fitting 5 folds for each of 108 candidates, totalling 540 fits\n"
     ]
    },
    {
     "data": {
      "text/html": [
       "<div>\n",
       "<style scoped>\n",
       "    .dataframe tbody tr th:only-of-type {\n",
       "        vertical-align: middle;\n",
       "    }\n",
       "\n",
       "    .dataframe tbody tr th {\n",
       "        vertical-align: top;\n",
       "    }\n",
       "\n",
       "    .dataframe thead th {\n",
       "        text-align: right;\n",
       "    }\n",
       "</style>\n",
       "<table border=\"1\" class=\"dataframe\">\n",
       "  <thead>\n",
       "    <tr style=\"text-align: right;\">\n",
       "      <th></th>\n",
       "      <th>Model</th>\n",
       "      <th>Precision</th>\n",
       "      <th>Recall</th>\n",
       "    </tr>\n",
       "  </thead>\n",
       "  <tbody>\n",
       "    <tr>\n",
       "      <th>Random Forest</th>\n",
       "      <td>(DecisionTreeClassifier(max_depth=7, max_featu...</td>\n",
       "      <td>0.884164</td>\n",
       "      <td>0.933437</td>\n",
       "    </tr>\n",
       "    <tr>\n",
       "      <th>XGBClassifer</th>\n",
       "      <td>XGBClassifier(base_score=None, booster=None, c...</td>\n",
       "      <td>0.972141</td>\n",
       "      <td>0.910714</td>\n",
       "    </tr>\n",
       "  </tbody>\n",
       "</table>\n",
       "</div>"
      ],
      "text/plain": [
       "                                                           Model  Precision  \\\n",
       "Random Forest  (DecisionTreeClassifier(max_depth=7, max_featu...   0.884164   \n",
       "XGBClassifer   XGBClassifier(base_score=None, booster=None, c...   0.972141   \n",
       "\n",
       "                 Recall  \n",
       "Random Forest  0.933437  \n",
       "XGBClassifer   0.910714  "
      ]
     },
     "execution_count": 32,
     "metadata": {},
     "output_type": "execute_result"
    }
   ],
   "source": [
    "scores = []\n",
    "estimators = {}\n",
    "\n",
    "#@ comparing the scores of xgbclassifier against randomforest on df_train\n",
    "scores = model_comparison(train_df, y_train, val_df, y_val)\n",
    "scores"
   ]
  },
  {
   "cell_type": "markdown",
   "id": "200f1548",
   "metadata": {},
   "source": [
    "### Best Estimator by recall"
   ]
  },
  {
   "cell_type": "code",
   "execution_count": 33,
   "id": "def63fc5",
   "metadata": {
    "scrolled": true
   },
   "outputs": [],
   "source": [
    "best_model = scores.sort_values(by='Recall', ascending=False).iloc[0].values[0]"
   ]
  },
  {
   "cell_type": "code",
   "execution_count": 34,
   "id": "2d6e9b4d",
   "metadata": {
    "scrolled": true
   },
   "outputs": [
    {
     "data": {
      "text/html": [
       "<style>#sk-container-id-3 {color: black;}#sk-container-id-3 pre{padding: 0;}#sk-container-id-3 div.sk-toggleable {background-color: white;}#sk-container-id-3 label.sk-toggleable__label {cursor: pointer;display: block;width: 100%;margin-bottom: 0;padding: 0.3em;box-sizing: border-box;text-align: center;}#sk-container-id-3 label.sk-toggleable__label-arrow:before {content: \"▸\";float: left;margin-right: 0.25em;color: #696969;}#sk-container-id-3 label.sk-toggleable__label-arrow:hover:before {color: black;}#sk-container-id-3 div.sk-estimator:hover label.sk-toggleable__label-arrow:before {color: black;}#sk-container-id-3 div.sk-toggleable__content {max-height: 0;max-width: 0;overflow: hidden;text-align: left;background-color: #f0f8ff;}#sk-container-id-3 div.sk-toggleable__content pre {margin: 0.2em;color: black;border-radius: 0.25em;background-color: #f0f8ff;}#sk-container-id-3 input.sk-toggleable__control:checked~div.sk-toggleable__content {max-height: 200px;max-width: 100%;overflow: auto;}#sk-container-id-3 input.sk-toggleable__control:checked~label.sk-toggleable__label-arrow:before {content: \"▾\";}#sk-container-id-3 div.sk-estimator input.sk-toggleable__control:checked~label.sk-toggleable__label {background-color: #d4ebff;}#sk-container-id-3 div.sk-label input.sk-toggleable__control:checked~label.sk-toggleable__label {background-color: #d4ebff;}#sk-container-id-3 input.sk-hidden--visually {border: 0;clip: rect(1px 1px 1px 1px);clip: rect(1px, 1px, 1px, 1px);height: 1px;margin: -1px;overflow: hidden;padding: 0;position: absolute;width: 1px;}#sk-container-id-3 div.sk-estimator {font-family: monospace;background-color: #f0f8ff;border: 1px dotted black;border-radius: 0.25em;box-sizing: border-box;margin-bottom: 0.5em;}#sk-container-id-3 div.sk-estimator:hover {background-color: #d4ebff;}#sk-container-id-3 div.sk-parallel-item::after {content: \"\";width: 100%;border-bottom: 1px solid gray;flex-grow: 1;}#sk-container-id-3 div.sk-label:hover label.sk-toggleable__label {background-color: #d4ebff;}#sk-container-id-3 div.sk-serial::before {content: \"\";position: absolute;border-left: 1px solid gray;box-sizing: border-box;top: 0;bottom: 0;left: 50%;z-index: 0;}#sk-container-id-3 div.sk-serial {display: flex;flex-direction: column;align-items: center;background-color: white;padding-right: 0.2em;padding-left: 0.2em;position: relative;}#sk-container-id-3 div.sk-item {position: relative;z-index: 1;}#sk-container-id-3 div.sk-parallel {display: flex;align-items: stretch;justify-content: center;background-color: white;position: relative;}#sk-container-id-3 div.sk-item::before, #sk-container-id-3 div.sk-parallel-item::before {content: \"\";position: absolute;border-left: 1px solid gray;box-sizing: border-box;top: 0;bottom: 0;left: 50%;z-index: -1;}#sk-container-id-3 div.sk-parallel-item {display: flex;flex-direction: column;z-index: 1;position: relative;background-color: white;}#sk-container-id-3 div.sk-parallel-item:first-child::after {align-self: flex-end;width: 50%;}#sk-container-id-3 div.sk-parallel-item:last-child::after {align-self: flex-start;width: 50%;}#sk-container-id-3 div.sk-parallel-item:only-child::after {width: 0;}#sk-container-id-3 div.sk-dashed-wrapped {border: 1px dashed gray;margin: 0 0.4em 0.5em 0.4em;box-sizing: border-box;padding-bottom: 0.4em;background-color: white;}#sk-container-id-3 div.sk-label label {font-family: monospace;font-weight: bold;display: inline-block;line-height: 1.2em;}#sk-container-id-3 div.sk-label-container {text-align: center;}#sk-container-id-3 div.sk-container {/* jupyter's `normalize.less` sets `[hidden] { display: none; }` but bootstrap.min.css set `[hidden] { display: none !important; }` so we also need the `!important` here to be able to override the default hidden behavior on the sphinx rendered scikit-learn.org. See: https://github.com/scikit-learn/scikit-learn/issues/21755 */display: inline-block !important;position: relative;}#sk-container-id-3 div.sk-text-repr-fallback {display: none;}</style><div id=\"sk-container-id-3\" class=\"sk-top-container\"><div class=\"sk-text-repr-fallback\"><pre>RandomForestClassifier(class_weight=&#x27;balanced&#x27;, max_depth=7, min_samples_leaf=2,\n",
       "                       n_estimators=150)</pre><b>In a Jupyter environment, please rerun this cell to show the HTML representation or trust the notebook. <br />On GitHub, the HTML representation is unable to render, please try loading this page with nbviewer.org.</b></div><div class=\"sk-container\" hidden><div class=\"sk-item\"><div class=\"sk-estimator sk-toggleable\"><input class=\"sk-toggleable__control sk-hidden--visually\" id=\"sk-estimator-id-3\" type=\"checkbox\" checked><label for=\"sk-estimator-id-3\" class=\"sk-toggleable__label sk-toggleable__label-arrow\">RandomForestClassifier</label><div class=\"sk-toggleable__content\"><pre>RandomForestClassifier(class_weight=&#x27;balanced&#x27;, max_depth=7, min_samples_leaf=2,\n",
       "                       n_estimators=150)</pre></div></div></div></div></div>"
      ],
      "text/plain": [
       "RandomForestClassifier(class_weight='balanced', max_depth=7, min_samples_leaf=2,\n",
       "                       n_estimators=150)"
      ]
     },
     "execution_count": 34,
     "metadata": {},
     "output_type": "execute_result"
    }
   ],
   "source": [
    "best_model"
   ]
  },
  {
   "cell_type": "markdown",
   "id": "d41841c3",
   "metadata": {},
   "source": [
    "## Testing the model on full train"
   ]
  },
  {
   "cell_type": "code",
   "execution_count": 35,
   "id": "80e99416",
   "metadata": {},
   "outputs": [],
   "source": [
    "model, dv = train(full_df, y_full, best_model)"
   ]
  },
  {
   "cell_type": "markdown",
   "id": "da05c794",
   "metadata": {},
   "source": [
    "# Exporting the model"
   ]
  },
  {
   "cell_type": "code",
   "execution_count": 36,
   "id": "0f8d8842",
   "metadata": {},
   "outputs": [],
   "source": [
    "import pickle"
   ]
  },
  {
   "cell_type": "code",
   "execution_count": 37,
   "id": "a95a43b2",
   "metadata": {},
   "outputs": [],
   "source": [
    "with open('model.bin', 'wb') as f:\n",
    "    pickle.dump((model, dv), f)"
   ]
  },
  {
   "cell_type": "raw",
   "id": "b382aefc",
   "metadata": {},
   "source": []
  }
 ],
 "metadata": {
  "kernelspec": {
   "display_name": "Python 3 (ipykernel)",
   "language": "python",
   "name": "python3"
  },
  "language_info": {
   "codemirror_mode": {
    "name": "ipython",
    "version": 3
   },
   "file_extension": ".py",
   "mimetype": "text/x-python",
   "name": "python",
   "nbconvert_exporter": "python",
   "pygments_lexer": "ipython3",
   "version": "3.10.12"
  }
 },
 "nbformat": 4,
 "nbformat_minor": 5
}
